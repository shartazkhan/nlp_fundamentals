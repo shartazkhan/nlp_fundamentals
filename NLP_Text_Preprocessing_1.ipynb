{
  "nbformat": 4,
  "nbformat_minor": 0,
  "metadata": {
    "colab": {
      "provenance": [],
      "collapsed_sections": [
        "5_WghFG4LAft",
        "1jIuGKDrLHW_",
        "MgDhnd43TKev",
        "2dzlLD7vT41g",
        "kAOpGH70Wz2h",
        "OMScDsz-F40R",
        "NCaDEViXKRqY",
        "kXY5kvvZM5Yh",
        "tuGRSikJRZlb"
      ],
      "mount_file_id": "1N1Brex31kArXKgT6Ort6n0eNFphIi_jP",
      "authorship_tag": "ABX9TyNy3ffb1E+lvySCJQaC1cvI",
      "include_colab_link": true
    },
    "kernelspec": {
      "name": "python3",
      "display_name": "Python 3"
    },
    "language_info": {
      "name": "python"
    }
  },
  "cells": [
    {
      "cell_type": "markdown",
      "metadata": {
        "id": "view-in-github",
        "colab_type": "text"
      },
      "source": [
        "<a href=\"https://colab.research.google.com/github/shartazkhan/nlp_fundamentals/blob/main/NLP_Text_Preprocessing_.ipynb\" target=\"_parent\"><img src=\"https://colab.research.google.com/assets/colab-badge.svg\" alt=\"Open In Colab\"/></a>"
      ]
    },
    {
      "cell_type": "code",
      "execution_count": 24,
      "metadata": {
        "id": "K4VFaRYJGKpW"
      },
      "outputs": [],
      "source": [
        "import pandas as pd\n",
        "import numpy as np\n",
        "import matplotlib.pyplot as plt\n",
        "import seaborn as sns"
      ]
    },
    {
      "cell_type": "code",
      "metadata": {
        "colab": {
          "base_uri": "https://localhost:8080/"
        },
        "id": "e5d7f9db",
        "outputId": "5e0414f2-142e-4c7d-e863-0ac0300bbd44"
      },
      "source": [
        "# from google.colab import drive\n",
        "# drive.mount('/content/drive')"
      ],
      "execution_count": 17,
      "outputs": [
        {
          "output_type": "stream",
          "name": "stdout",
          "text": [
            "Drive already mounted at /content/drive; to attempt to forcibly remount, call drive.mount(\"/content/drive\", force_remount=True).\n"
          ]
        }
      ]
    },
    {
      "cell_type": "code",
      "source": [
        "df = pd.read_csv('/content/drive/MyDrive/Datasets/IMDB Dataset.csv')"
      ],
      "metadata": {
        "id": "EaPe8toZIsNY"
      },
      "execution_count": 38,
      "outputs": []
    },
    {
      "cell_type": "code",
      "source": [
        "df.sample(5)"
      ],
      "metadata": {
        "colab": {
          "base_uri": "https://localhost:8080/",
          "height": 206
        },
        "id": "cxcioCtyJbfX",
        "outputId": "5f3e80a7-84be-4a56-85e8-a63db523d042"
      },
      "execution_count": 40,
      "outputs": [
        {
          "output_type": "execute_result",
          "data": {
            "text/plain": [
              "                                                  review sentiment\n",
              "521    one of the best ensemble acted films I've ever...  positive\n",
              "17390  After just finishing the book the same day I w...  negative\n",
              "45040  The biggest National Lampoon hit remains \"Anim...  negative\n",
              "29979  Wow... what would you do with $33m? Let me giv...  negative\n",
              "14319  Believe it or not, this was at one time the wo...  negative"
            ],
            "text/html": [
              "\n",
              "  <div id=\"df-060098a1-84a2-4b40-bab5-81024279dccb\" class=\"colab-df-container\">\n",
              "    <div>\n",
              "<style scoped>\n",
              "    .dataframe tbody tr th:only-of-type {\n",
              "        vertical-align: middle;\n",
              "    }\n",
              "\n",
              "    .dataframe tbody tr th {\n",
              "        vertical-align: top;\n",
              "    }\n",
              "\n",
              "    .dataframe thead th {\n",
              "        text-align: right;\n",
              "    }\n",
              "</style>\n",
              "<table border=\"1\" class=\"dataframe\">\n",
              "  <thead>\n",
              "    <tr style=\"text-align: right;\">\n",
              "      <th></th>\n",
              "      <th>review</th>\n",
              "      <th>sentiment</th>\n",
              "    </tr>\n",
              "  </thead>\n",
              "  <tbody>\n",
              "    <tr>\n",
              "      <th>521</th>\n",
              "      <td>one of the best ensemble acted films I've ever...</td>\n",
              "      <td>positive</td>\n",
              "    </tr>\n",
              "    <tr>\n",
              "      <th>17390</th>\n",
              "      <td>After just finishing the book the same day I w...</td>\n",
              "      <td>negative</td>\n",
              "    </tr>\n",
              "    <tr>\n",
              "      <th>45040</th>\n",
              "      <td>The biggest National Lampoon hit remains \"Anim...</td>\n",
              "      <td>negative</td>\n",
              "    </tr>\n",
              "    <tr>\n",
              "      <th>29979</th>\n",
              "      <td>Wow... what would you do with $33m? Let me giv...</td>\n",
              "      <td>negative</td>\n",
              "    </tr>\n",
              "    <tr>\n",
              "      <th>14319</th>\n",
              "      <td>Believe it or not, this was at one time the wo...</td>\n",
              "      <td>negative</td>\n",
              "    </tr>\n",
              "  </tbody>\n",
              "</table>\n",
              "</div>\n",
              "    <div class=\"colab-df-buttons\">\n",
              "\n",
              "  <div class=\"colab-df-container\">\n",
              "    <button class=\"colab-df-convert\" onclick=\"convertToInteractive('df-060098a1-84a2-4b40-bab5-81024279dccb')\"\n",
              "            title=\"Convert this dataframe to an interactive table.\"\n",
              "            style=\"display:none;\">\n",
              "\n",
              "  <svg xmlns=\"http://www.w3.org/2000/svg\" height=\"24px\" viewBox=\"0 -960 960 960\">\n",
              "    <path d=\"M120-120v-720h720v720H120Zm60-500h600v-160H180v160Zm220 220h160v-160H400v160Zm0 220h160v-160H400v160ZM180-400h160v-160H180v160Zm440 0h160v-160H620v160ZM180-180h160v-160H180v160Zm440 0h160v-160H620v160Z\"/>\n",
              "  </svg>\n",
              "    </button>\n",
              "\n",
              "  <style>\n",
              "    .colab-df-container {\n",
              "      display:flex;\n",
              "      gap: 12px;\n",
              "    }\n",
              "\n",
              "    .colab-df-convert {\n",
              "      background-color: #E8F0FE;\n",
              "      border: none;\n",
              "      border-radius: 50%;\n",
              "      cursor: pointer;\n",
              "      display: none;\n",
              "      fill: #1967D2;\n",
              "      height: 32px;\n",
              "      padding: 0 0 0 0;\n",
              "      width: 32px;\n",
              "    }\n",
              "\n",
              "    .colab-df-convert:hover {\n",
              "      background-color: #E2EBFA;\n",
              "      box-shadow: 0px 1px 2px rgba(60, 64, 67, 0.3), 0px 1px 3px 1px rgba(60, 64, 67, 0.15);\n",
              "      fill: #174EA6;\n",
              "    }\n",
              "\n",
              "    .colab-df-buttons div {\n",
              "      margin-bottom: 4px;\n",
              "    }\n",
              "\n",
              "    [theme=dark] .colab-df-convert {\n",
              "      background-color: #3B4455;\n",
              "      fill: #D2E3FC;\n",
              "    }\n",
              "\n",
              "    [theme=dark] .colab-df-convert:hover {\n",
              "      background-color: #434B5C;\n",
              "      box-shadow: 0px 1px 3px 1px rgba(0, 0, 0, 0.15);\n",
              "      filter: drop-shadow(0px 1px 2px rgba(0, 0, 0, 0.3));\n",
              "      fill: #FFFFFF;\n",
              "    }\n",
              "  </style>\n",
              "\n",
              "    <script>\n",
              "      const buttonEl =\n",
              "        document.querySelector('#df-060098a1-84a2-4b40-bab5-81024279dccb button.colab-df-convert');\n",
              "      buttonEl.style.display =\n",
              "        google.colab.kernel.accessAllowed ? 'block' : 'none';\n",
              "\n",
              "      async function convertToInteractive(key) {\n",
              "        const element = document.querySelector('#df-060098a1-84a2-4b40-bab5-81024279dccb');\n",
              "        const dataTable =\n",
              "          await google.colab.kernel.invokeFunction('convertToInteractive',\n",
              "                                                    [key], {});\n",
              "        if (!dataTable) return;\n",
              "\n",
              "        const docLinkHtml = 'Like what you see? Visit the ' +\n",
              "          '<a target=\"_blank\" href=https://colab.research.google.com/notebooks/data_table.ipynb>data table notebook</a>'\n",
              "          + ' to learn more about interactive tables.';\n",
              "        element.innerHTML = '';\n",
              "        dataTable['output_type'] = 'display_data';\n",
              "        await google.colab.output.renderOutput(dataTable, element);\n",
              "        const docLink = document.createElement('div');\n",
              "        docLink.innerHTML = docLinkHtml;\n",
              "        element.appendChild(docLink);\n",
              "      }\n",
              "    </script>\n",
              "  </div>\n",
              "\n",
              "\n",
              "    <div id=\"df-105ee091-795d-4c60-9af1-f39ad6a137f6\">\n",
              "      <button class=\"colab-df-quickchart\" onclick=\"quickchart('df-105ee091-795d-4c60-9af1-f39ad6a137f6')\"\n",
              "                title=\"Suggest charts\"\n",
              "                style=\"display:none;\">\n",
              "\n",
              "<svg xmlns=\"http://www.w3.org/2000/svg\" height=\"24px\"viewBox=\"0 0 24 24\"\n",
              "     width=\"24px\">\n",
              "    <g>\n",
              "        <path d=\"M19 3H5c-1.1 0-2 .9-2 2v14c0 1.1.9 2 2 2h14c1.1 0 2-.9 2-2V5c0-1.1-.9-2-2-2zM9 17H7v-7h2v7zm4 0h-2V7h2v10zm4 0h-2v-4h2v4z\"/>\n",
              "    </g>\n",
              "</svg>\n",
              "      </button>\n",
              "\n",
              "<style>\n",
              "  .colab-df-quickchart {\n",
              "      --bg-color: #E8F0FE;\n",
              "      --fill-color: #1967D2;\n",
              "      --hover-bg-color: #E2EBFA;\n",
              "      --hover-fill-color: #174EA6;\n",
              "      --disabled-fill-color: #AAA;\n",
              "      --disabled-bg-color: #DDD;\n",
              "  }\n",
              "\n",
              "  [theme=dark] .colab-df-quickchart {\n",
              "      --bg-color: #3B4455;\n",
              "      --fill-color: #D2E3FC;\n",
              "      --hover-bg-color: #434B5C;\n",
              "      --hover-fill-color: #FFFFFF;\n",
              "      --disabled-bg-color: #3B4455;\n",
              "      --disabled-fill-color: #666;\n",
              "  }\n",
              "\n",
              "  .colab-df-quickchart {\n",
              "    background-color: var(--bg-color);\n",
              "    border: none;\n",
              "    border-radius: 50%;\n",
              "    cursor: pointer;\n",
              "    display: none;\n",
              "    fill: var(--fill-color);\n",
              "    height: 32px;\n",
              "    padding: 0;\n",
              "    width: 32px;\n",
              "  }\n",
              "\n",
              "  .colab-df-quickchart:hover {\n",
              "    background-color: var(--hover-bg-color);\n",
              "    box-shadow: 0 1px 2px rgba(60, 64, 67, 0.3), 0 1px 3px 1px rgba(60, 64, 67, 0.15);\n",
              "    fill: var(--button-hover-fill-color);\n",
              "  }\n",
              "\n",
              "  .colab-df-quickchart-complete:disabled,\n",
              "  .colab-df-quickchart-complete:disabled:hover {\n",
              "    background-color: var(--disabled-bg-color);\n",
              "    fill: var(--disabled-fill-color);\n",
              "    box-shadow: none;\n",
              "  }\n",
              "\n",
              "  .colab-df-spinner {\n",
              "    border: 2px solid var(--fill-color);\n",
              "    border-color: transparent;\n",
              "    border-bottom-color: var(--fill-color);\n",
              "    animation:\n",
              "      spin 1s steps(1) infinite;\n",
              "  }\n",
              "\n",
              "  @keyframes spin {\n",
              "    0% {\n",
              "      border-color: transparent;\n",
              "      border-bottom-color: var(--fill-color);\n",
              "      border-left-color: var(--fill-color);\n",
              "    }\n",
              "    20% {\n",
              "      border-color: transparent;\n",
              "      border-left-color: var(--fill-color);\n",
              "      border-top-color: var(--fill-color);\n",
              "    }\n",
              "    30% {\n",
              "      border-color: transparent;\n",
              "      border-left-color: var(--fill-color);\n",
              "      border-top-color: var(--fill-color);\n",
              "      border-right-color: var(--fill-color);\n",
              "    }\n",
              "    40% {\n",
              "      border-color: transparent;\n",
              "      border-right-color: var(--fill-color);\n",
              "      border-top-color: var(--fill-color);\n",
              "    }\n",
              "    60% {\n",
              "      border-color: transparent;\n",
              "      border-right-color: var(--fill-color);\n",
              "    }\n",
              "    80% {\n",
              "      border-color: transparent;\n",
              "      border-right-color: var(--fill-color);\n",
              "      border-bottom-color: var(--fill-color);\n",
              "    }\n",
              "    90% {\n",
              "      border-color: transparent;\n",
              "      border-bottom-color: var(--fill-color);\n",
              "    }\n",
              "  }\n",
              "</style>\n",
              "\n",
              "      <script>\n",
              "        async function quickchart(key) {\n",
              "          const quickchartButtonEl =\n",
              "            document.querySelector('#' + key + ' button');\n",
              "          quickchartButtonEl.disabled = true;  // To prevent multiple clicks.\n",
              "          quickchartButtonEl.classList.add('colab-df-spinner');\n",
              "          try {\n",
              "            const charts = await google.colab.kernel.invokeFunction(\n",
              "                'suggestCharts', [key], {});\n",
              "          } catch (error) {\n",
              "            console.error('Error during call to suggestCharts:', error);\n",
              "          }\n",
              "          quickchartButtonEl.classList.remove('colab-df-spinner');\n",
              "          quickchartButtonEl.classList.add('colab-df-quickchart-complete');\n",
              "        }\n",
              "        (() => {\n",
              "          let quickchartButtonEl =\n",
              "            document.querySelector('#df-105ee091-795d-4c60-9af1-f39ad6a137f6 button');\n",
              "          quickchartButtonEl.style.display =\n",
              "            google.colab.kernel.accessAllowed ? 'block' : 'none';\n",
              "        })();\n",
              "      </script>\n",
              "    </div>\n",
              "\n",
              "    </div>\n",
              "  </div>\n"
            ],
            "application/vnd.google.colaboratory.intrinsic+json": {
              "type": "dataframe",
              "summary": "{\n  \"name\": \"df\",\n  \"rows\": 5,\n  \"fields\": [\n    {\n      \"column\": \"review\",\n      \"properties\": {\n        \"dtype\": \"string\",\n        \"num_unique_values\": 5,\n        \"samples\": [\n          \"After just finishing the book the same day I watched the movie, I knew what was supposed to happen. I had high expectations of the movie, because of the rating. The only reason I give this movie a 2 out of 10 stars is that it was alright trying to be a movie. I have a couple main points for not liking this movie.<br /><br />********** SPOILERS **********<br /><br />1. The casting. Jack Nicholson barely fits into Jack Torrence's character. Also, I would have NEVER picked Shelly Duvall for Wendy. I pictured Wendy much differently. I can see why they picked Jack Nicholson though, the grin, the pointy eyebrows, but he's not supposed to really look 'evil'. He's supposed to look normal, and he turns evil. Also, they make one of the worst movie couples. Danny was alright, he needed more life though. He acted way to droney.<br /><br />2. The screenplay. They cut out so many things that were in the book, and added things. Some of the things that were in the book that I was looking forward to in the movie were either deleted, changed, or handled wrongly. Some of the things that were in the book that I was looking forward to seeing (the hedge animals, the roque mallet, the elevator) were not in the movie, and it was 2 and half hours!! I was extremely irritated.<br /><br />3. The Ending. The ending was changed completly, Halorann died, Jack froze to death, Wendy never got hurt...The Overlook didn't blow up. The Ending was so cool in the book, and the movie messed it up so horribly, I was apalled. Hallorann was never supposed to die, but Jack killed him with an ax. If they wanted to kill him, at least have Jack use a roque mallet. You never even saw a roque mallet during the whole movie.<br /><br />There are other things that I didn't like about the movie, but there are things that were all right. The camera angels were cool, the blood coming out of the elevator (didn't happen in the book) was cool, but maybe I was too irritated that the movie didn't go with the book, to try to be scared at all. I reccomend reading the book, before you see this movie. I applaud Stephen King for actually agreeing to sign a contract to not dis Stanley Kubrik any more. I would never have done that, I would have taken all the rights I could get to yell at him all day. I can't wait to see the 6 hour version, at least it has the hedge animals.<br /><br />Rating: 2/10\",\n          \"Believe it or not, this was at one time the worst movie I had ever seen. Since that time, I have seen many more movies that are worse (how is it possible??) Therefore, to be fair, I had to give this movie a 2 out of 10. But it was a tough call.\",\n          \"The biggest National Lampoon hit remains \\\"Animal House\\\", and rightly so. It was funny, raucous and good-natured.<br /><br />The exact opposite of every other National Lampoon film. Including \\\"Class Reunion\\\".<br /><br />PLEASE do not be fooled by the inclusion of Stephen Furst (\\\"Flounder\\\") from \\\"Animal House\\\". Or by the fact that John Hughes wrote this jumbled mess. This reunion is about as hilarious as root canal and twice as painful.<br /><br />One star, and that's being generous. Then again, I always thought most of my old classmates were demons, vampires and serial killers, too.\"\n        ],\n        \"semantic_type\": \"\",\n        \"description\": \"\"\n      }\n    },\n    {\n      \"column\": \"sentiment\",\n      \"properties\": {\n        \"dtype\": \"category\",\n        \"num_unique_values\": 2,\n        \"samples\": [\n          \"negative\",\n          \"positive\"\n        ],\n        \"semantic_type\": \"\",\n        \"description\": \"\"\n      }\n    }\n  ]\n}"
            }
          },
          "metadata": {},
          "execution_count": 40
        }
      ]
    },
    {
      "cell_type": "code",
      "source": [
        "df['review'][49]"
      ],
      "metadata": {
        "colab": {
          "base_uri": "https://localhost:8080/",
          "height": 140
        },
        "id": "pz6z0obkJ4mY",
        "outputId": "69acc934-e4c1-4921-8601-146c84a73c89"
      },
      "execution_count": 41,
      "outputs": [
        {
          "output_type": "execute_result",
          "data": {
            "text/plain": [
              "\"Average (and surprisingly tame) Fulci giallo which means it's still quite bad by normal standards, but redeemed by its solid build-up and some nice touches such as a neat time twist on the issues of visions and clairvoyance.<br /><br />The genre's well-known weaknesses are in full gear: banal dialogue, wooden acting, illogical plot points. And the finale goes on much too long, while the denouement proves to be a rather lame or shall I say: limp affair.<br /><br />Fulci's ironic handling of giallo norms is amusing, though. Yellow clues wherever you look.<br /><br />3 out of 10 limping killers\""
            ],
            "application/vnd.google.colaboratory.intrinsic+json": {
              "type": "string"
            }
          },
          "metadata": {},
          "execution_count": 41
        }
      ]
    },
    {
      "cell_type": "markdown",
      "source": [
        "## 1. First we will convert data to lowercase"
      ],
      "metadata": {
        "id": "5_WghFG4LAft"
      }
    },
    {
      "cell_type": "code",
      "source": [
        "df['review'] = df['review'].str.lower()\n",
        "\n",
        "df.sample(5)"
      ],
      "metadata": {
        "colab": {
          "base_uri": "https://localhost:8080/",
          "height": 206
        },
        "id": "2-F5-43eKD34",
        "outputId": "905b5196-a7ac-4c30-c3ee-3c800d5b4475"
      },
      "execution_count": 42,
      "outputs": [
        {
          "output_type": "execute_result",
          "data": {
            "text/plain": [
              "                                                  review sentiment\n",
              "3562   recap: since the warrior queen gedren raised a...  negative\n",
              "32280  i wandered into this movie after watching the ...  negative\n",
              "12932  this book-based movie is truly awful, and a bi...  negative\n",
              "22128  paul telfer, who plays hercules in this tv fil...  negative\n",
              "35833  to me this film is just a very very lame teen ...  negative"
            ],
            "text/html": [
              "\n",
              "  <div id=\"df-1d34df32-fbf4-492c-af40-f50253f880a4\" class=\"colab-df-container\">\n",
              "    <div>\n",
              "<style scoped>\n",
              "    .dataframe tbody tr th:only-of-type {\n",
              "        vertical-align: middle;\n",
              "    }\n",
              "\n",
              "    .dataframe tbody tr th {\n",
              "        vertical-align: top;\n",
              "    }\n",
              "\n",
              "    .dataframe thead th {\n",
              "        text-align: right;\n",
              "    }\n",
              "</style>\n",
              "<table border=\"1\" class=\"dataframe\">\n",
              "  <thead>\n",
              "    <tr style=\"text-align: right;\">\n",
              "      <th></th>\n",
              "      <th>review</th>\n",
              "      <th>sentiment</th>\n",
              "    </tr>\n",
              "  </thead>\n",
              "  <tbody>\n",
              "    <tr>\n",
              "      <th>3562</th>\n",
              "      <td>recap: since the warrior queen gedren raised a...</td>\n",
              "      <td>negative</td>\n",
              "    </tr>\n",
              "    <tr>\n",
              "      <th>32280</th>\n",
              "      <td>i wandered into this movie after watching the ...</td>\n",
              "      <td>negative</td>\n",
              "    </tr>\n",
              "    <tr>\n",
              "      <th>12932</th>\n",
              "      <td>this book-based movie is truly awful, and a bi...</td>\n",
              "      <td>negative</td>\n",
              "    </tr>\n",
              "    <tr>\n",
              "      <th>22128</th>\n",
              "      <td>paul telfer, who plays hercules in this tv fil...</td>\n",
              "      <td>negative</td>\n",
              "    </tr>\n",
              "    <tr>\n",
              "      <th>35833</th>\n",
              "      <td>to me this film is just a very very lame teen ...</td>\n",
              "      <td>negative</td>\n",
              "    </tr>\n",
              "  </tbody>\n",
              "</table>\n",
              "</div>\n",
              "    <div class=\"colab-df-buttons\">\n",
              "\n",
              "  <div class=\"colab-df-container\">\n",
              "    <button class=\"colab-df-convert\" onclick=\"convertToInteractive('df-1d34df32-fbf4-492c-af40-f50253f880a4')\"\n",
              "            title=\"Convert this dataframe to an interactive table.\"\n",
              "            style=\"display:none;\">\n",
              "\n",
              "  <svg xmlns=\"http://www.w3.org/2000/svg\" height=\"24px\" viewBox=\"0 -960 960 960\">\n",
              "    <path d=\"M120-120v-720h720v720H120Zm60-500h600v-160H180v160Zm220 220h160v-160H400v160Zm0 220h160v-160H400v160ZM180-400h160v-160H180v160Zm440 0h160v-160H620v160ZM180-180h160v-160H180v160Zm440 0h160v-160H620v160Z\"/>\n",
              "  </svg>\n",
              "    </button>\n",
              "\n",
              "  <style>\n",
              "    .colab-df-container {\n",
              "      display:flex;\n",
              "      gap: 12px;\n",
              "    }\n",
              "\n",
              "    .colab-df-convert {\n",
              "      background-color: #E8F0FE;\n",
              "      border: none;\n",
              "      border-radius: 50%;\n",
              "      cursor: pointer;\n",
              "      display: none;\n",
              "      fill: #1967D2;\n",
              "      height: 32px;\n",
              "      padding: 0 0 0 0;\n",
              "      width: 32px;\n",
              "    }\n",
              "\n",
              "    .colab-df-convert:hover {\n",
              "      background-color: #E2EBFA;\n",
              "      box-shadow: 0px 1px 2px rgba(60, 64, 67, 0.3), 0px 1px 3px 1px rgba(60, 64, 67, 0.15);\n",
              "      fill: #174EA6;\n",
              "    }\n",
              "\n",
              "    .colab-df-buttons div {\n",
              "      margin-bottom: 4px;\n",
              "    }\n",
              "\n",
              "    [theme=dark] .colab-df-convert {\n",
              "      background-color: #3B4455;\n",
              "      fill: #D2E3FC;\n",
              "    }\n",
              "\n",
              "    [theme=dark] .colab-df-convert:hover {\n",
              "      background-color: #434B5C;\n",
              "      box-shadow: 0px 1px 3px 1px rgba(0, 0, 0, 0.15);\n",
              "      filter: drop-shadow(0px 1px 2px rgba(0, 0, 0, 0.3));\n",
              "      fill: #FFFFFF;\n",
              "    }\n",
              "  </style>\n",
              "\n",
              "    <script>\n",
              "      const buttonEl =\n",
              "        document.querySelector('#df-1d34df32-fbf4-492c-af40-f50253f880a4 button.colab-df-convert');\n",
              "      buttonEl.style.display =\n",
              "        google.colab.kernel.accessAllowed ? 'block' : 'none';\n",
              "\n",
              "      async function convertToInteractive(key) {\n",
              "        const element = document.querySelector('#df-1d34df32-fbf4-492c-af40-f50253f880a4');\n",
              "        const dataTable =\n",
              "          await google.colab.kernel.invokeFunction('convertToInteractive',\n",
              "                                                    [key], {});\n",
              "        if (!dataTable) return;\n",
              "\n",
              "        const docLinkHtml = 'Like what you see? Visit the ' +\n",
              "          '<a target=\"_blank\" href=https://colab.research.google.com/notebooks/data_table.ipynb>data table notebook</a>'\n",
              "          + ' to learn more about interactive tables.';\n",
              "        element.innerHTML = '';\n",
              "        dataTable['output_type'] = 'display_data';\n",
              "        await google.colab.output.renderOutput(dataTable, element);\n",
              "        const docLink = document.createElement('div');\n",
              "        docLink.innerHTML = docLinkHtml;\n",
              "        element.appendChild(docLink);\n",
              "      }\n",
              "    </script>\n",
              "  </div>\n",
              "\n",
              "\n",
              "    <div id=\"df-49ee4ed6-ef25-40d6-b9d3-cfd366eca9fa\">\n",
              "      <button class=\"colab-df-quickchart\" onclick=\"quickchart('df-49ee4ed6-ef25-40d6-b9d3-cfd366eca9fa')\"\n",
              "                title=\"Suggest charts\"\n",
              "                style=\"display:none;\">\n",
              "\n",
              "<svg xmlns=\"http://www.w3.org/2000/svg\" height=\"24px\"viewBox=\"0 0 24 24\"\n",
              "     width=\"24px\">\n",
              "    <g>\n",
              "        <path d=\"M19 3H5c-1.1 0-2 .9-2 2v14c0 1.1.9 2 2 2h14c1.1 0 2-.9 2-2V5c0-1.1-.9-2-2-2zM9 17H7v-7h2v7zm4 0h-2V7h2v10zm4 0h-2v-4h2v4z\"/>\n",
              "    </g>\n",
              "</svg>\n",
              "      </button>\n",
              "\n",
              "<style>\n",
              "  .colab-df-quickchart {\n",
              "      --bg-color: #E8F0FE;\n",
              "      --fill-color: #1967D2;\n",
              "      --hover-bg-color: #E2EBFA;\n",
              "      --hover-fill-color: #174EA6;\n",
              "      --disabled-fill-color: #AAA;\n",
              "      --disabled-bg-color: #DDD;\n",
              "  }\n",
              "\n",
              "  [theme=dark] .colab-df-quickchart {\n",
              "      --bg-color: #3B4455;\n",
              "      --fill-color: #D2E3FC;\n",
              "      --hover-bg-color: #434B5C;\n",
              "      --hover-fill-color: #FFFFFF;\n",
              "      --disabled-bg-color: #3B4455;\n",
              "      --disabled-fill-color: #666;\n",
              "  }\n",
              "\n",
              "  .colab-df-quickchart {\n",
              "    background-color: var(--bg-color);\n",
              "    border: none;\n",
              "    border-radius: 50%;\n",
              "    cursor: pointer;\n",
              "    display: none;\n",
              "    fill: var(--fill-color);\n",
              "    height: 32px;\n",
              "    padding: 0;\n",
              "    width: 32px;\n",
              "  }\n",
              "\n",
              "  .colab-df-quickchart:hover {\n",
              "    background-color: var(--hover-bg-color);\n",
              "    box-shadow: 0 1px 2px rgba(60, 64, 67, 0.3), 0 1px 3px 1px rgba(60, 64, 67, 0.15);\n",
              "    fill: var(--button-hover-fill-color);\n",
              "  }\n",
              "\n",
              "  .colab-df-quickchart-complete:disabled,\n",
              "  .colab-df-quickchart-complete:disabled:hover {\n",
              "    background-color: var(--disabled-bg-color);\n",
              "    fill: var(--disabled-fill-color);\n",
              "    box-shadow: none;\n",
              "  }\n",
              "\n",
              "  .colab-df-spinner {\n",
              "    border: 2px solid var(--fill-color);\n",
              "    border-color: transparent;\n",
              "    border-bottom-color: var(--fill-color);\n",
              "    animation:\n",
              "      spin 1s steps(1) infinite;\n",
              "  }\n",
              "\n",
              "  @keyframes spin {\n",
              "    0% {\n",
              "      border-color: transparent;\n",
              "      border-bottom-color: var(--fill-color);\n",
              "      border-left-color: var(--fill-color);\n",
              "    }\n",
              "    20% {\n",
              "      border-color: transparent;\n",
              "      border-left-color: var(--fill-color);\n",
              "      border-top-color: var(--fill-color);\n",
              "    }\n",
              "    30% {\n",
              "      border-color: transparent;\n",
              "      border-left-color: var(--fill-color);\n",
              "      border-top-color: var(--fill-color);\n",
              "      border-right-color: var(--fill-color);\n",
              "    }\n",
              "    40% {\n",
              "      border-color: transparent;\n",
              "      border-right-color: var(--fill-color);\n",
              "      border-top-color: var(--fill-color);\n",
              "    }\n",
              "    60% {\n",
              "      border-color: transparent;\n",
              "      border-right-color: var(--fill-color);\n",
              "    }\n",
              "    80% {\n",
              "      border-color: transparent;\n",
              "      border-right-color: var(--fill-color);\n",
              "      border-bottom-color: var(--fill-color);\n",
              "    }\n",
              "    90% {\n",
              "      border-color: transparent;\n",
              "      border-bottom-color: var(--fill-color);\n",
              "    }\n",
              "  }\n",
              "</style>\n",
              "\n",
              "      <script>\n",
              "        async function quickchart(key) {\n",
              "          const quickchartButtonEl =\n",
              "            document.querySelector('#' + key + ' button');\n",
              "          quickchartButtonEl.disabled = true;  // To prevent multiple clicks.\n",
              "          quickchartButtonEl.classList.add('colab-df-spinner');\n",
              "          try {\n",
              "            const charts = await google.colab.kernel.invokeFunction(\n",
              "                'suggestCharts', [key], {});\n",
              "          } catch (error) {\n",
              "            console.error('Error during call to suggestCharts:', error);\n",
              "          }\n",
              "          quickchartButtonEl.classList.remove('colab-df-spinner');\n",
              "          quickchartButtonEl.classList.add('colab-df-quickchart-complete');\n",
              "        }\n",
              "        (() => {\n",
              "          let quickchartButtonEl =\n",
              "            document.querySelector('#df-49ee4ed6-ef25-40d6-b9d3-cfd366eca9fa button');\n",
              "          quickchartButtonEl.style.display =\n",
              "            google.colab.kernel.accessAllowed ? 'block' : 'none';\n",
              "        })();\n",
              "      </script>\n",
              "    </div>\n",
              "\n",
              "    </div>\n",
              "  </div>\n"
            ],
            "application/vnd.google.colaboratory.intrinsic+json": {
              "type": "dataframe",
              "summary": "{\n  \"name\": \"df\",\n  \"rows\": 5,\n  \"fields\": [\n    {\n      \"column\": \"review\",\n      \"properties\": {\n        \"dtype\": \"string\",\n        \"num_unique_values\": 5,\n        \"samples\": [\n          \"i wandered into this movie after watching the 82-minute \\\"borat\\\" tonight, and left quite disappointed. i was a huge fan of wallace and gromit, and routinely go to see animated films. that being said, i found myself nodding off and at one point nearly walked out, but stayed waiting for this film to get better. never happened.<br /><br />the visuals are stunning and the voice work is top notch, especially in my opinion, that of kate winslet and ian mckellen (i had to remind myself a few times the bulbous headed lizard villain was gandalf and magneto). the problem with this movie for me is it's one of those animated features for the add-set. it registers after the fact as one zany slapstick routine after another, weighed down by a treacle filled plot that pulls out every stop in an attempt to convey an \\\"important message.\\\" it looks a lot like busted oscar bait for the animated category, and considering the way it's scoring with critics, i wouldn't be surprised if the academy gets it wrong and offers up its hardware. but if you're looking for an enjoyable animated feature about rats, take my advice and wait for ratatouille.\",\n          \"to me this film is just a very very lame teen party movie with all the normal clich\\u00e9s and boring stereotyped characters (nerds, jocks, popular girls, sleezy guys, etc) but with an underlying anti drug/drinking theme. <br /><br />if you ever have the unfortunate chance of seeing this film, keep an eye out for all the references to responsibility and keeping it real (dunno how else to word it) i guess the only thing that'd make this film cool, would be if they tv playing it was on fire. that, or dvd it was on exploded...<br /><br />1 out of 10000 - watch animal house instead.\",\n          \"this book-based movie is truly awful, and a big disappointment. we've been waiting for this move over a month. many film reviewer were hopeful for it. also in newspapers and tv, it made big sense. when 29th april comes, many people regretfully noticed that movie is really awful. why? first of all story was so monotone. it has been many indefinite scenes, sometimes it's hard to realize what's going on. the actresses, out of hulya avsar, weren't harmonized with their roles, especially vildan atasever. she acts better in comedy films, in this movie, a kind of drama, she couldn't disposed of her previous role. and finally movie is too short, just 66 minutes.\"\n        ],\n        \"semantic_type\": \"\",\n        \"description\": \"\"\n      }\n    },\n    {\n      \"column\": \"sentiment\",\n      \"properties\": {\n        \"dtype\": \"category\",\n        \"num_unique_values\": 1,\n        \"samples\": [\n          \"negative\"\n        ],\n        \"semantic_type\": \"\",\n        \"description\": \"\"\n      }\n    }\n  ]\n}"
            }
          },
          "metadata": {},
          "execution_count": 42
        }
      ]
    },
    {
      "cell_type": "markdown",
      "source": [
        "## 2. Remove unnecessery thigns\n"
      ],
      "metadata": {
        "id": "1jIuGKDrLHW_"
      }
    },
    {
      "cell_type": "markdown",
      "source": [
        "### HTML Tags"
      ],
      "metadata": {
        "id": "eBYfgqaJTA8B"
      }
    },
    {
      "cell_type": "code",
      "source": [
        "import re\n",
        "\n",
        "def remove_html_tags(text):\n",
        "    clean = re.compile('<.*?>')\n",
        "    return clean.sub(r'', text)\n",
        "\n",
        "df['review'] = df['review'].apply(remove_html_tags)\n",
        "\n",
        "df.sample(5)"
      ],
      "metadata": {
        "colab": {
          "base_uri": "https://localhost:8080/",
          "height": 206
        },
        "id": "_DpyiEuuLUfy",
        "outputId": "0b433262-d999-4659-e418-f8d29e8b5dd5"
      },
      "execution_count": 43,
      "outputs": [
        {
          "output_type": "execute_result",
          "data": {
            "text/plain": [
              "                                                  review sentiment\n",
              "26845  as a big dostoyevsky fan, i had always been di...  positive\n",
              "45124  fragile carne, just before his great period. a...  positive\n",
              "27858  this episode from the first season slightly ed...  positive\n",
              "3452   the sentinel is a movie that was recommended t...  positive\n",
              "45971  overall an extremely disappointing picture. ve...  negative"
            ],
            "text/html": [
              "\n",
              "  <div id=\"df-2c13af98-a99d-4bb5-a87f-b1e3849958e1\" class=\"colab-df-container\">\n",
              "    <div>\n",
              "<style scoped>\n",
              "    .dataframe tbody tr th:only-of-type {\n",
              "        vertical-align: middle;\n",
              "    }\n",
              "\n",
              "    .dataframe tbody tr th {\n",
              "        vertical-align: top;\n",
              "    }\n",
              "\n",
              "    .dataframe thead th {\n",
              "        text-align: right;\n",
              "    }\n",
              "</style>\n",
              "<table border=\"1\" class=\"dataframe\">\n",
              "  <thead>\n",
              "    <tr style=\"text-align: right;\">\n",
              "      <th></th>\n",
              "      <th>review</th>\n",
              "      <th>sentiment</th>\n",
              "    </tr>\n",
              "  </thead>\n",
              "  <tbody>\n",
              "    <tr>\n",
              "      <th>26845</th>\n",
              "      <td>as a big dostoyevsky fan, i had always been di...</td>\n",
              "      <td>positive</td>\n",
              "    </tr>\n",
              "    <tr>\n",
              "      <th>45124</th>\n",
              "      <td>fragile carne, just before his great period. a...</td>\n",
              "      <td>positive</td>\n",
              "    </tr>\n",
              "    <tr>\n",
              "      <th>27858</th>\n",
              "      <td>this episode from the first season slightly ed...</td>\n",
              "      <td>positive</td>\n",
              "    </tr>\n",
              "    <tr>\n",
              "      <th>3452</th>\n",
              "      <td>the sentinel is a movie that was recommended t...</td>\n",
              "      <td>positive</td>\n",
              "    </tr>\n",
              "    <tr>\n",
              "      <th>45971</th>\n",
              "      <td>overall an extremely disappointing picture. ve...</td>\n",
              "      <td>negative</td>\n",
              "    </tr>\n",
              "  </tbody>\n",
              "</table>\n",
              "</div>\n",
              "    <div class=\"colab-df-buttons\">\n",
              "\n",
              "  <div class=\"colab-df-container\">\n",
              "    <button class=\"colab-df-convert\" onclick=\"convertToInteractive('df-2c13af98-a99d-4bb5-a87f-b1e3849958e1')\"\n",
              "            title=\"Convert this dataframe to an interactive table.\"\n",
              "            style=\"display:none;\">\n",
              "\n",
              "  <svg xmlns=\"http://www.w3.org/2000/svg\" height=\"24px\" viewBox=\"0 -960 960 960\">\n",
              "    <path d=\"M120-120v-720h720v720H120Zm60-500h600v-160H180v160Zm220 220h160v-160H400v160Zm0 220h160v-160H400v160ZM180-400h160v-160H180v160Zm440 0h160v-160H620v160ZM180-180h160v-160H180v160Zm440 0h160v-160H620v160Z\"/>\n",
              "  </svg>\n",
              "    </button>\n",
              "\n",
              "  <style>\n",
              "    .colab-df-container {\n",
              "      display:flex;\n",
              "      gap: 12px;\n",
              "    }\n",
              "\n",
              "    .colab-df-convert {\n",
              "      background-color: #E8F0FE;\n",
              "      border: none;\n",
              "      border-radius: 50%;\n",
              "      cursor: pointer;\n",
              "      display: none;\n",
              "      fill: #1967D2;\n",
              "      height: 32px;\n",
              "      padding: 0 0 0 0;\n",
              "      width: 32px;\n",
              "    }\n",
              "\n",
              "    .colab-df-convert:hover {\n",
              "      background-color: #E2EBFA;\n",
              "      box-shadow: 0px 1px 2px rgba(60, 64, 67, 0.3), 0px 1px 3px 1px rgba(60, 64, 67, 0.15);\n",
              "      fill: #174EA6;\n",
              "    }\n",
              "\n",
              "    .colab-df-buttons div {\n",
              "      margin-bottom: 4px;\n",
              "    }\n",
              "\n",
              "    [theme=dark] .colab-df-convert {\n",
              "      background-color: #3B4455;\n",
              "      fill: #D2E3FC;\n",
              "    }\n",
              "\n",
              "    [theme=dark] .colab-df-convert:hover {\n",
              "      background-color: #434B5C;\n",
              "      box-shadow: 0px 1px 3px 1px rgba(0, 0, 0, 0.15);\n",
              "      filter: drop-shadow(0px 1px 2px rgba(0, 0, 0, 0.3));\n",
              "      fill: #FFFFFF;\n",
              "    }\n",
              "  </style>\n",
              "\n",
              "    <script>\n",
              "      const buttonEl =\n",
              "        document.querySelector('#df-2c13af98-a99d-4bb5-a87f-b1e3849958e1 button.colab-df-convert');\n",
              "      buttonEl.style.display =\n",
              "        google.colab.kernel.accessAllowed ? 'block' : 'none';\n",
              "\n",
              "      async function convertToInteractive(key) {\n",
              "        const element = document.querySelector('#df-2c13af98-a99d-4bb5-a87f-b1e3849958e1');\n",
              "        const dataTable =\n",
              "          await google.colab.kernel.invokeFunction('convertToInteractive',\n",
              "                                                    [key], {});\n",
              "        if (!dataTable) return;\n",
              "\n",
              "        const docLinkHtml = 'Like what you see? Visit the ' +\n",
              "          '<a target=\"_blank\" href=https://colab.research.google.com/notebooks/data_table.ipynb>data table notebook</a>'\n",
              "          + ' to learn more about interactive tables.';\n",
              "        element.innerHTML = '';\n",
              "        dataTable['output_type'] = 'display_data';\n",
              "        await google.colab.output.renderOutput(dataTable, element);\n",
              "        const docLink = document.createElement('div');\n",
              "        docLink.innerHTML = docLinkHtml;\n",
              "        element.appendChild(docLink);\n",
              "      }\n",
              "    </script>\n",
              "  </div>\n",
              "\n",
              "\n",
              "    <div id=\"df-15e20671-240f-4bc4-bb90-615b32ce8176\">\n",
              "      <button class=\"colab-df-quickchart\" onclick=\"quickchart('df-15e20671-240f-4bc4-bb90-615b32ce8176')\"\n",
              "                title=\"Suggest charts\"\n",
              "                style=\"display:none;\">\n",
              "\n",
              "<svg xmlns=\"http://www.w3.org/2000/svg\" height=\"24px\"viewBox=\"0 0 24 24\"\n",
              "     width=\"24px\">\n",
              "    <g>\n",
              "        <path d=\"M19 3H5c-1.1 0-2 .9-2 2v14c0 1.1.9 2 2 2h14c1.1 0 2-.9 2-2V5c0-1.1-.9-2-2-2zM9 17H7v-7h2v7zm4 0h-2V7h2v10zm4 0h-2v-4h2v4z\"/>\n",
              "    </g>\n",
              "</svg>\n",
              "      </button>\n",
              "\n",
              "<style>\n",
              "  .colab-df-quickchart {\n",
              "      --bg-color: #E8F0FE;\n",
              "      --fill-color: #1967D2;\n",
              "      --hover-bg-color: #E2EBFA;\n",
              "      --hover-fill-color: #174EA6;\n",
              "      --disabled-fill-color: #AAA;\n",
              "      --disabled-bg-color: #DDD;\n",
              "  }\n",
              "\n",
              "  [theme=dark] .colab-df-quickchart {\n",
              "      --bg-color: #3B4455;\n",
              "      --fill-color: #D2E3FC;\n",
              "      --hover-bg-color: #434B5C;\n",
              "      --hover-fill-color: #FFFFFF;\n",
              "      --disabled-bg-color: #3B4455;\n",
              "      --disabled-fill-color: #666;\n",
              "  }\n",
              "\n",
              "  .colab-df-quickchart {\n",
              "    background-color: var(--bg-color);\n",
              "    border: none;\n",
              "    border-radius: 50%;\n",
              "    cursor: pointer;\n",
              "    display: none;\n",
              "    fill: var(--fill-color);\n",
              "    height: 32px;\n",
              "    padding: 0;\n",
              "    width: 32px;\n",
              "  }\n",
              "\n",
              "  .colab-df-quickchart:hover {\n",
              "    background-color: var(--hover-bg-color);\n",
              "    box-shadow: 0 1px 2px rgba(60, 64, 67, 0.3), 0 1px 3px 1px rgba(60, 64, 67, 0.15);\n",
              "    fill: var(--button-hover-fill-color);\n",
              "  }\n",
              "\n",
              "  .colab-df-quickchart-complete:disabled,\n",
              "  .colab-df-quickchart-complete:disabled:hover {\n",
              "    background-color: var(--disabled-bg-color);\n",
              "    fill: var(--disabled-fill-color);\n",
              "    box-shadow: none;\n",
              "  }\n",
              "\n",
              "  .colab-df-spinner {\n",
              "    border: 2px solid var(--fill-color);\n",
              "    border-color: transparent;\n",
              "    border-bottom-color: var(--fill-color);\n",
              "    animation:\n",
              "      spin 1s steps(1) infinite;\n",
              "  }\n",
              "\n",
              "  @keyframes spin {\n",
              "    0% {\n",
              "      border-color: transparent;\n",
              "      border-bottom-color: var(--fill-color);\n",
              "      border-left-color: var(--fill-color);\n",
              "    }\n",
              "    20% {\n",
              "      border-color: transparent;\n",
              "      border-left-color: var(--fill-color);\n",
              "      border-top-color: var(--fill-color);\n",
              "    }\n",
              "    30% {\n",
              "      border-color: transparent;\n",
              "      border-left-color: var(--fill-color);\n",
              "      border-top-color: var(--fill-color);\n",
              "      border-right-color: var(--fill-color);\n",
              "    }\n",
              "    40% {\n",
              "      border-color: transparent;\n",
              "      border-right-color: var(--fill-color);\n",
              "      border-top-color: var(--fill-color);\n",
              "    }\n",
              "    60% {\n",
              "      border-color: transparent;\n",
              "      border-right-color: var(--fill-color);\n",
              "    }\n",
              "    80% {\n",
              "      border-color: transparent;\n",
              "      border-right-color: var(--fill-color);\n",
              "      border-bottom-color: var(--fill-color);\n",
              "    }\n",
              "    90% {\n",
              "      border-color: transparent;\n",
              "      border-bottom-color: var(--fill-color);\n",
              "    }\n",
              "  }\n",
              "</style>\n",
              "\n",
              "      <script>\n",
              "        async function quickchart(key) {\n",
              "          const quickchartButtonEl =\n",
              "            document.querySelector('#' + key + ' button');\n",
              "          quickchartButtonEl.disabled = true;  // To prevent multiple clicks.\n",
              "          quickchartButtonEl.classList.add('colab-df-spinner');\n",
              "          try {\n",
              "            const charts = await google.colab.kernel.invokeFunction(\n",
              "                'suggestCharts', [key], {});\n",
              "          } catch (error) {\n",
              "            console.error('Error during call to suggestCharts:', error);\n",
              "          }\n",
              "          quickchartButtonEl.classList.remove('colab-df-spinner');\n",
              "          quickchartButtonEl.classList.add('colab-df-quickchart-complete');\n",
              "        }\n",
              "        (() => {\n",
              "          let quickchartButtonEl =\n",
              "            document.querySelector('#df-15e20671-240f-4bc4-bb90-615b32ce8176 button');\n",
              "          quickchartButtonEl.style.display =\n",
              "            google.colab.kernel.accessAllowed ? 'block' : 'none';\n",
              "        })();\n",
              "      </script>\n",
              "    </div>\n",
              "\n",
              "    </div>\n",
              "  </div>\n"
            ],
            "application/vnd.google.colaboratory.intrinsic+json": {
              "type": "dataframe",
              "summary": "{\n  \"name\": \"df\",\n  \"rows\": 5,\n  \"fields\": [\n    {\n      \"column\": \"review\",\n      \"properties\": {\n        \"dtype\": \"string\",\n        \"num_unique_values\": 5,\n        \"samples\": [\n          \"fragile carne, just before his great period. although it is sometimes hesitantly directed, and marred by longueurs, hotel du nord is full of the faded charm and beauty typical of french films of the late 1930s, as well as a relative lightness of touch unusual with this director. all of his great virtues are here: the cramped interiors broken up by gliding, complex, delicious camera movements; a melancholy deployment of light and shade; remarkable, wistful sets by alexander trauner, which are so evocative that they, as the title suggests, take on a shaping personality of their own; the quietly mournful music of maurice jaubert; a seemingly casual plot about romance, tragedy and fatalism that casts a noose over its characters; extraordinary performances by some of the greatest players of all time, in this case louis jouvet and arletty.in fact, the film's biggest failing, and i find myself astonished (as someone who usually, didactically, minimises its importance) to admit it, is its script. it has plenty of wit and poignancy, but without the poetry and irony regular carne collaborator jacques prevert brought to their best films, it cannot avoid slipping into cliche (even if it is only cliche in hindsight).ostensibly set in the boarding house, the film sets up its opening idea of community with two interconnecting tales of doomed love, and emotional, metaphysical and actual isolation the doomed love scenario is the one that works least well. annabella is very beautiful, but not very good at doing tragic, while aumont's callowness, brilliantly appropriate though it may be, by its nature obtrudes any real, felt, romance. maybe it's just me, but i find it hard to sympathise with a couple, so young, so attractive, who, after only a few months, are so racked with despair that they have to shoot each other. their high-flown lines are rather embarrassing too. of course, this affair is not meant to be plausible - they are symbolic of youth, hope and possibility being crushed in france, or maybe france itself, despairing, resigned, waiting for death. for symbols to be truly powerful, they must convince on a narrative level, which, i feel, they don't quite here.what saves this plot is its connection with the story of m. edmond, a character linked to the great tradition of french gangsters. although we only learn it gradually, he is a killer in hiding, living off the prostitute played by arletty, having dobbed in his accomplices. in his previous 'role' - and the theatricality of his position is crucial - he had one set of traits; in hiding he has assumed their complete opposite. living a rather aimless life, he is profoundly shaken by the lovers' pact, and becomes fatalistic, realising the folly of trying to cheat death.in this way - the admission that one is less a person than a collection of signs, and that death is an unavoidable reality the most powerful masculinity must succumb to - edmond is like a romantic prototype of melville's clinical killers. with one exception - he gives briefly into hope, a delusion which only strenghtens - if that's not too much of an unbearable irony - his fatal resolve.all this could have been trite if it wasn't for the truly amazing performance of louis jouvet. i had studied his theatrical work at college, but this was my first taste of his screen talents, and he reveals himself to be worthy of the greats - grant, mastroianni, clift, mason, mitchum, cotten - giving a quiet nobility to a role which is more of a conception (he, needless to say, is allegorical too) than an actual person. edmond begins the film a minor supporting character, but emerges as a tragic hero of some force. like all those major actors, jouvet's brilliance lies in what he conceals.on a formal level, what amazes is carne's grasping, ten years before its flourishing, of the techniques of the great hollywood melodramas of sirk, ophuls, ray and minnelli. although his theatricality lacks the fluidity and clear-eyed beauty of sierck's contemporary german melodramas (check out the masterpieces zu neuen ufern and la habenera), carne's style truly fits his theme - that of entrapment, paralysis, resignation.the film's principle motif is that of water - the credits float and dissolve, the hotel stands by a waterway - but instead of renoir's open river of possibility, we have a canal, stagnant and manmade, going nowhere. the film begins as it ends, and the setting never changes, except for one brief interlude from which both escapees are doomed to return. characters can only escape through death - their entrapment is emphasised by the narrow rooms they occupy, the walls and frames that hold them captive, the windows that look out on an escape they can never achieve. any hope at the end, therefore, is profoundly, if romantically, compromised.\",\n          \"overall an extremely disappointing picture. very, very slow build up to the basic storyline. the role of maria schrader searching for her families secret past. (every take seems to last forever\\u0085. there is really no rhythm in the film.) ***spoilers*** her mother ruth is rescued from the nazis, by a german woman, played by katja riemann. the entire character of ruth is so one dimensional, so stereotypical. ***spoilers end*** the film cuts back and forth between present day new york and berlin and berlin 40s something. please when you do that, give the audience an indication of what time exactly the story takes place. there is never a clear indication of time \\u0096 very annoying. worst part is, the end. ***spoilers*** the entire show and jabber about the jews being so terribly tormented, simply by a bureaucratic accident! give me a break. that's how the jews got out of the rosenstrasse? the question of who freed the jews is never answered. was is goebels who freed them? did lean fischer sleep with goebels? in venice the film won an acting award for k. riemann, why? \\u0096 i have no idea. must be the jewish theme\\u0085\",\n          \"this episode from the first season slightly edges towards controversy with the whole gender bending angle.i imagine there would have been a significant amount of editing before this was finished to appease censors.the story itself is original and well written and the directing is complemented by the fine acting.(nicholas lea makes his x-files debut though not as agent krycek but as a victim called michael) i especially enjoyed the built up to and the ending itself.its different but enjoyable.ignore any bad reviews you may hear.watch it for yourself and make judgement then\"\n        ],\n        \"semantic_type\": \"\",\n        \"description\": \"\"\n      }\n    },\n    {\n      \"column\": \"sentiment\",\n      \"properties\": {\n        \"dtype\": \"category\",\n        \"num_unique_values\": 2,\n        \"samples\": [\n          \"negative\",\n          \"positive\"\n        ],\n        \"semantic_type\": \"\",\n        \"description\": \"\"\n      }\n    }\n  ]\n}"
            }
          },
          "metadata": {},
          "execution_count": 43
        }
      ]
    },
    {
      "cell_type": "code",
      "source": [
        "df['review'][49]"
      ],
      "metadata": {
        "colab": {
          "base_uri": "https://localhost:8080/",
          "height": 122
        },
        "id": "XyE1AfvpL41e",
        "outputId": "073d6857-2159-4f70-afc1-e76f944c8a02"
      },
      "execution_count": 44,
      "outputs": [
        {
          "output_type": "execute_result",
          "data": {
            "text/plain": [
              "\"average (and surprisingly tame) fulci giallo which means it's still quite bad by normal standards, but redeemed by its solid build-up and some nice touches such as a neat time twist on the issues of visions and clairvoyance.the genre's well-known weaknesses are in full gear: banal dialogue, wooden acting, illogical plot points. and the finale goes on much too long, while the denouement proves to be a rather lame or shall i say: limp affair.fulci's ironic handling of giallo norms is amusing, though. yellow clues wherever you look.3 out of 10 limping killers\""
            ],
            "application/vnd.google.colaboratory.intrinsic+json": {
              "type": "string"
            }
          },
          "metadata": {},
          "execution_count": 44
        }
      ]
    },
    {
      "cell_type": "markdown",
      "source": [
        "### URLS"
      ],
      "metadata": {
        "id": "MgDhnd43TKev"
      }
    },
    {
      "cell_type": "code",
      "source": [
        "def remove_url(text):\n",
        "    clean = re.compile('https?://\\S+|www\\.\\S+')\n",
        "    return clean.sub(r'', text)\n",
        "\n",
        "df['review'] = df['review'].apply(remove_url)\n",
        "\n",
        "df.sample(5)"
      ],
      "metadata": {
        "colab": {
          "base_uri": "https://localhost:8080/",
          "height": 206
        },
        "id": "pxdYoqN4L7L1",
        "outputId": "ec16b3f8-ee14-4ce1-834c-b3c87e0867f9"
      },
      "execution_count": 35,
      "outputs": [
        {
          "output_type": "execute_result",
          "data": {
            "text/plain": [
              "                                                  review sentiment\n",
              "49936  i watched this mini in the early eighties. sam...  positive\n",
              "40469  without a doubt, 12 monkeys is one of the best...  positive\n",
              "14779  yes, it's not a great cinematic achievement, b...  positive\n",
              "33476  although, this episode was offensive to the to...  positive\n",
              "16512  i first saw a poster advertising this film on ...  negative"
            ],
            "text/html": [
              "\n",
              "  <div id=\"df-17168afa-63cb-4f36-8545-e1461b990093\" class=\"colab-df-container\">\n",
              "    <div>\n",
              "<style scoped>\n",
              "    .dataframe tbody tr th:only-of-type {\n",
              "        vertical-align: middle;\n",
              "    }\n",
              "\n",
              "    .dataframe tbody tr th {\n",
              "        vertical-align: top;\n",
              "    }\n",
              "\n",
              "    .dataframe thead th {\n",
              "        text-align: right;\n",
              "    }\n",
              "</style>\n",
              "<table border=\"1\" class=\"dataframe\">\n",
              "  <thead>\n",
              "    <tr style=\"text-align: right;\">\n",
              "      <th></th>\n",
              "      <th>review</th>\n",
              "      <th>sentiment</th>\n",
              "    </tr>\n",
              "  </thead>\n",
              "  <tbody>\n",
              "    <tr>\n",
              "      <th>49936</th>\n",
              "      <td>i watched this mini in the early eighties. sam...</td>\n",
              "      <td>positive</td>\n",
              "    </tr>\n",
              "    <tr>\n",
              "      <th>40469</th>\n",
              "      <td>without a doubt, 12 monkeys is one of the best...</td>\n",
              "      <td>positive</td>\n",
              "    </tr>\n",
              "    <tr>\n",
              "      <th>14779</th>\n",
              "      <td>yes, it's not a great cinematic achievement, b...</td>\n",
              "      <td>positive</td>\n",
              "    </tr>\n",
              "    <tr>\n",
              "      <th>33476</th>\n",
              "      <td>although, this episode was offensive to the to...</td>\n",
              "      <td>positive</td>\n",
              "    </tr>\n",
              "    <tr>\n",
              "      <th>16512</th>\n",
              "      <td>i first saw a poster advertising this film on ...</td>\n",
              "      <td>negative</td>\n",
              "    </tr>\n",
              "  </tbody>\n",
              "</table>\n",
              "</div>\n",
              "    <div class=\"colab-df-buttons\">\n",
              "\n",
              "  <div class=\"colab-df-container\">\n",
              "    <button class=\"colab-df-convert\" onclick=\"convertToInteractive('df-17168afa-63cb-4f36-8545-e1461b990093')\"\n",
              "            title=\"Convert this dataframe to an interactive table.\"\n",
              "            style=\"display:none;\">\n",
              "\n",
              "  <svg xmlns=\"http://www.w3.org/2000/svg\" height=\"24px\" viewBox=\"0 -960 960 960\">\n",
              "    <path d=\"M120-120v-720h720v720H120Zm60-500h600v-160H180v160Zm220 220h160v-160H400v160Zm0 220h160v-160H400v160ZM180-400h160v-160H180v160Zm440 0h160v-160H620v160ZM180-180h160v-160H180v160Zm440 0h160v-160H620v160Z\"/>\n",
              "  </svg>\n",
              "    </button>\n",
              "\n",
              "  <style>\n",
              "    .colab-df-container {\n",
              "      display:flex;\n",
              "      gap: 12px;\n",
              "    }\n",
              "\n",
              "    .colab-df-convert {\n",
              "      background-color: #E8F0FE;\n",
              "      border: none;\n",
              "      border-radius: 50%;\n",
              "      cursor: pointer;\n",
              "      display: none;\n",
              "      fill: #1967D2;\n",
              "      height: 32px;\n",
              "      padding: 0 0 0 0;\n",
              "      width: 32px;\n",
              "    }\n",
              "\n",
              "    .colab-df-convert:hover {\n",
              "      background-color: #E2EBFA;\n",
              "      box-shadow: 0px 1px 2px rgba(60, 64, 67, 0.3), 0px 1px 3px 1px rgba(60, 64, 67, 0.15);\n",
              "      fill: #174EA6;\n",
              "    }\n",
              "\n",
              "    .colab-df-buttons div {\n",
              "      margin-bottom: 4px;\n",
              "    }\n",
              "\n",
              "    [theme=dark] .colab-df-convert {\n",
              "      background-color: #3B4455;\n",
              "      fill: #D2E3FC;\n",
              "    }\n",
              "\n",
              "    [theme=dark] .colab-df-convert:hover {\n",
              "      background-color: #434B5C;\n",
              "      box-shadow: 0px 1px 3px 1px rgba(0, 0, 0, 0.15);\n",
              "      filter: drop-shadow(0px 1px 2px rgba(0, 0, 0, 0.3));\n",
              "      fill: #FFFFFF;\n",
              "    }\n",
              "  </style>\n",
              "\n",
              "    <script>\n",
              "      const buttonEl =\n",
              "        document.querySelector('#df-17168afa-63cb-4f36-8545-e1461b990093 button.colab-df-convert');\n",
              "      buttonEl.style.display =\n",
              "        google.colab.kernel.accessAllowed ? 'block' : 'none';\n",
              "\n",
              "      async function convertToInteractive(key) {\n",
              "        const element = document.querySelector('#df-17168afa-63cb-4f36-8545-e1461b990093');\n",
              "        const dataTable =\n",
              "          await google.colab.kernel.invokeFunction('convertToInteractive',\n",
              "                                                    [key], {});\n",
              "        if (!dataTable) return;\n",
              "\n",
              "        const docLinkHtml = 'Like what you see? Visit the ' +\n",
              "          '<a target=\"_blank\" href=https://colab.research.google.com/notebooks/data_table.ipynb>data table notebook</a>'\n",
              "          + ' to learn more about interactive tables.';\n",
              "        element.innerHTML = '';\n",
              "        dataTable['output_type'] = 'display_data';\n",
              "        await google.colab.output.renderOutput(dataTable, element);\n",
              "        const docLink = document.createElement('div');\n",
              "        docLink.innerHTML = docLinkHtml;\n",
              "        element.appendChild(docLink);\n",
              "      }\n",
              "    </script>\n",
              "  </div>\n",
              "\n",
              "\n",
              "    <div id=\"df-e3c98806-456d-4a1a-a70d-fc0724660d5e\">\n",
              "      <button class=\"colab-df-quickchart\" onclick=\"quickchart('df-e3c98806-456d-4a1a-a70d-fc0724660d5e')\"\n",
              "                title=\"Suggest charts\"\n",
              "                style=\"display:none;\">\n",
              "\n",
              "<svg xmlns=\"http://www.w3.org/2000/svg\" height=\"24px\"viewBox=\"0 0 24 24\"\n",
              "     width=\"24px\">\n",
              "    <g>\n",
              "        <path d=\"M19 3H5c-1.1 0-2 .9-2 2v14c0 1.1.9 2 2 2h14c1.1 0 2-.9 2-2V5c0-1.1-.9-2-2-2zM9 17H7v-7h2v7zm4 0h-2V7h2v10zm4 0h-2v-4h2v4z\"/>\n",
              "    </g>\n",
              "</svg>\n",
              "      </button>\n",
              "\n",
              "<style>\n",
              "  .colab-df-quickchart {\n",
              "      --bg-color: #E8F0FE;\n",
              "      --fill-color: #1967D2;\n",
              "      --hover-bg-color: #E2EBFA;\n",
              "      --hover-fill-color: #174EA6;\n",
              "      --disabled-fill-color: #AAA;\n",
              "      --disabled-bg-color: #DDD;\n",
              "  }\n",
              "\n",
              "  [theme=dark] .colab-df-quickchart {\n",
              "      --bg-color: #3B4455;\n",
              "      --fill-color: #D2E3FC;\n",
              "      --hover-bg-color: #434B5C;\n",
              "      --hover-fill-color: #FFFFFF;\n",
              "      --disabled-bg-color: #3B4455;\n",
              "      --disabled-fill-color: #666;\n",
              "  }\n",
              "\n",
              "  .colab-df-quickchart {\n",
              "    background-color: var(--bg-color);\n",
              "    border: none;\n",
              "    border-radius: 50%;\n",
              "    cursor: pointer;\n",
              "    display: none;\n",
              "    fill: var(--fill-color);\n",
              "    height: 32px;\n",
              "    padding: 0;\n",
              "    width: 32px;\n",
              "  }\n",
              "\n",
              "  .colab-df-quickchart:hover {\n",
              "    background-color: var(--hover-bg-color);\n",
              "    box-shadow: 0 1px 2px rgba(60, 64, 67, 0.3), 0 1px 3px 1px rgba(60, 64, 67, 0.15);\n",
              "    fill: var(--button-hover-fill-color);\n",
              "  }\n",
              "\n",
              "  .colab-df-quickchart-complete:disabled,\n",
              "  .colab-df-quickchart-complete:disabled:hover {\n",
              "    background-color: var(--disabled-bg-color);\n",
              "    fill: var(--disabled-fill-color);\n",
              "    box-shadow: none;\n",
              "  }\n",
              "\n",
              "  .colab-df-spinner {\n",
              "    border: 2px solid var(--fill-color);\n",
              "    border-color: transparent;\n",
              "    border-bottom-color: var(--fill-color);\n",
              "    animation:\n",
              "      spin 1s steps(1) infinite;\n",
              "  }\n",
              "\n",
              "  @keyframes spin {\n",
              "    0% {\n",
              "      border-color: transparent;\n",
              "      border-bottom-color: var(--fill-color);\n",
              "      border-left-color: var(--fill-color);\n",
              "    }\n",
              "    20% {\n",
              "      border-color: transparent;\n",
              "      border-left-color: var(--fill-color);\n",
              "      border-top-color: var(--fill-color);\n",
              "    }\n",
              "    30% {\n",
              "      border-color: transparent;\n",
              "      border-left-color: var(--fill-color);\n",
              "      border-top-color: var(--fill-color);\n",
              "      border-right-color: var(--fill-color);\n",
              "    }\n",
              "    40% {\n",
              "      border-color: transparent;\n",
              "      border-right-color: var(--fill-color);\n",
              "      border-top-color: var(--fill-color);\n",
              "    }\n",
              "    60% {\n",
              "      border-color: transparent;\n",
              "      border-right-color: var(--fill-color);\n",
              "    }\n",
              "    80% {\n",
              "      border-color: transparent;\n",
              "      border-right-color: var(--fill-color);\n",
              "      border-bottom-color: var(--fill-color);\n",
              "    }\n",
              "    90% {\n",
              "      border-color: transparent;\n",
              "      border-bottom-color: var(--fill-color);\n",
              "    }\n",
              "  }\n",
              "</style>\n",
              "\n",
              "      <script>\n",
              "        async function quickchart(key) {\n",
              "          const quickchartButtonEl =\n",
              "            document.querySelector('#' + key + ' button');\n",
              "          quickchartButtonEl.disabled = true;  // To prevent multiple clicks.\n",
              "          quickchartButtonEl.classList.add('colab-df-spinner');\n",
              "          try {\n",
              "            const charts = await google.colab.kernel.invokeFunction(\n",
              "                'suggestCharts', [key], {});\n",
              "          } catch (error) {\n",
              "            console.error('Error during call to suggestCharts:', error);\n",
              "          }\n",
              "          quickchartButtonEl.classList.remove('colab-df-spinner');\n",
              "          quickchartButtonEl.classList.add('colab-df-quickchart-complete');\n",
              "        }\n",
              "        (() => {\n",
              "          let quickchartButtonEl =\n",
              "            document.querySelector('#df-e3c98806-456d-4a1a-a70d-fc0724660d5e button');\n",
              "          quickchartButtonEl.style.display =\n",
              "            google.colab.kernel.accessAllowed ? 'block' : 'none';\n",
              "        })();\n",
              "      </script>\n",
              "    </div>\n",
              "\n",
              "    </div>\n",
              "  </div>\n"
            ],
            "application/vnd.google.colaboratory.intrinsic+json": {
              "type": "dataframe",
              "summary": "{\n  \"name\": \"df\",\n  \"rows\": 5,\n  \"fields\": [\n    {\n      \"column\": \"review\",\n      \"properties\": {\n        \"dtype\": \"string\",\n        \"num_unique_values\": 5,\n        \"samples\": [\n          \"without a doubt, 12 monkeys is one of the best films of the sci-fi genre and director terry gilliam is no stranger at pulling off such cinematic originality. an apocalyptic film that holds you completely spellbound, 12 monkeys never lets up and has you guessing all the way throughout. excellent use of philadelphia locales and netherworld sets create a gothic sense of tragedy and two people caught in time at the wrong place.bruce willis escapes his macho image and portrays a true loony who happens to be right about all that will happen. he is actually sane, but the people of the future (or present if you will) distort this guy's head so bad through time travel, no wonder he unravels. he gets sent to world war i just after beng sent to the wrong year to find out how the army of the twelve monkeys pulls off the annihilation of civilization as we know it. they finally get it right and in what is truly a remarkable screenplay to match the performance, we get to see willis, madeleine stowe and an ominous brad pitt cross-referenced over the course of 6 years.stowe is sensual and solid as the risk-taking shrink who slowly starts to realize that willis may not be as cracked up as he seems. a captivating element of the relationship between her and willis is their sense of \\\"seeing\\\" each other before, in another place or time. 12 monkeys is essentially about time and the madness the futuristic people immerse into it and the times of the present, when killers and a psychotic genius can alter the world.the brooding city of philadelphia is a dark and gothic backdrop for willis' plight to complete his mission which is, against all usual hollywood stereotype, not to save the world. he is gathering information. the film plays tricks on the viewer as well, placing willis in a new setting at the drop of a pin. this must have been an extremely difficult picture to make but gilliam seems to be the master of hard-boiled movie making. he even drops in some humor reminiscent of other great works like time bandits, and brazil. the screen is this man's canvas and he knows how to paint a sometimes terrifying picture of the world and its possible future within the mainstream atmosphere of big-budget films. if you want sincere madness and ironic tragedy, see 12 monkeys.rating: 9 of 10\",\n          \"i first saw a poster advertising this film on a street in helsinki, finland in june of 2000. what caught my attention was the proud proclamation advising all readers that the movie, although itself french, had been \\\"banned in france\\\". upon returning home to new york, i discovered that one of the \\\"art house\\\" movie theaters in the city was screening the film, and so (with my finnish fiancee) decided to see what all the fuss was about. boy, did we ever.from the comments read here, and the reviews i knew the movie was violent and sexually explicit. not necessarily offended by either of these two conditions, i went with an open mind to see what had perturbed the sensibilities of our gallic cousins. presumably, as anyone who is reading this will know, the story involves two women who embark on a crime and murder spree in france (the movie has english subtitles). the resemblance to \\\"thelma and louise\\\" however, ends with that; the sex is unusually graphic (and in copious supply) as is the violence (a lot of stomping to death, and a lot of blood and other organic matter splattering after bullet impact).on an intellectual level, one could make the case that the film's very essence is the relationship of sex and violence (as manifested by the only sex these women know: one is a small-time prostitute, and the other has earned money from time to time by performing in pornographic films. when they, during their descent into crime and murder, have the upper hand over their sexual situations, they react only with the same violence and brutality that they themselves know and understand. it is important to note, however, that the victims of their rampage are not only creepy men interested in creepy sex, (of which there are several)but innocent passersby, a woman at an atm, for example, as well.i myself do not really understand why the repeated \\\"porn-movie\\\" shots were all that necessary, (except to depict the physical contact as cruel, unpassionate and debased) and the unrelenting gore did get rather tedious after the first few violent spasms.it is a coarse and crude movie, but in fairness, it is dealing with coarse and crude people and equally unpleasant circumstances. from one point of view, the lives of the french underclasses is explored, and it's pretty grim; a travelogue for france it definitely is not- perhaps that's why the french banned it.\",\n          \"yes, it's not a great cinematic achievement, but toy soldiers is a fun and entertaining movie. the young cast does a great job with both dramatic and comedic aspects of the story, and i particularly liked shawn phelan as derek/\\\"yogurt\\\". i've seen this one plenty of times over the years, and will probably see it several more. just don't think too much and you'll love it - enjoy!\"\n        ],\n        \"semantic_type\": \"\",\n        \"description\": \"\"\n      }\n    },\n    {\n      \"column\": \"sentiment\",\n      \"properties\": {\n        \"dtype\": \"category\",\n        \"num_unique_values\": 2,\n        \"samples\": [\n          \"negative\",\n          \"positive\"\n        ],\n        \"semantic_type\": \"\",\n        \"description\": \"\"\n      }\n    }\n  ]\n}"
            }
          },
          "metadata": {},
          "execution_count": 35
        }
      ]
    },
    {
      "cell_type": "markdown",
      "source": [
        "### Punctuations"
      ],
      "metadata": {
        "id": "2dzlLD7vT41g"
      }
    },
    {
      "cell_type": "code",
      "source": [],
      "metadata": {
        "id": "yRexZngkMC4W"
      },
      "execution_count": 45,
      "outputs": []
    },
    {
      "cell_type": "code",
      "source": [
        "import string\n",
        "\n",
        "def remove_punctuation(text):\n",
        "    translator = str.maketrans('', '', string.punctuation) # str.maketrans() is used to create a mapping of characters to be replaced.\n",
        "    # In this case\n",
        "    return text.translate(translator)\n",
        "\n",
        "df['review'] = df['review'].apply(remove_punctuation)\n",
        "\n",
        "df.sample(5)"
      ],
      "metadata": {
        "colab": {
          "base_uri": "https://localhost:8080/",
          "height": 206
        },
        "id": "RcpAXg4yT_9O",
        "outputId": "30741f16-8866-4839-808a-7da03a878c4d"
      },
      "execution_count": 46,
      "outputs": [
        {
          "output_type": "execute_result",
          "data": {
            "text/plain": [
              "                                                  review sentiment\n",
              "39641  hilarious and lowbudget comedy at its best thi...  positive\n",
              "48591  too bad chuck norris has gone to tv he made so...  negative\n",
              "45242  what a time we live in when someone like this ...  negative\n",
              "42862  uninspired direction leaves a decent cast stra...  negative\n",
              "14105  i had high hopes for it when i heard that it w...  negative"
            ],
            "text/html": [
              "\n",
              "  <div id=\"df-4cb8f56d-fab4-49e1-b908-bee4f11bf781\" class=\"colab-df-container\">\n",
              "    <div>\n",
              "<style scoped>\n",
              "    .dataframe tbody tr th:only-of-type {\n",
              "        vertical-align: middle;\n",
              "    }\n",
              "\n",
              "    .dataframe tbody tr th {\n",
              "        vertical-align: top;\n",
              "    }\n",
              "\n",
              "    .dataframe thead th {\n",
              "        text-align: right;\n",
              "    }\n",
              "</style>\n",
              "<table border=\"1\" class=\"dataframe\">\n",
              "  <thead>\n",
              "    <tr style=\"text-align: right;\">\n",
              "      <th></th>\n",
              "      <th>review</th>\n",
              "      <th>sentiment</th>\n",
              "    </tr>\n",
              "  </thead>\n",
              "  <tbody>\n",
              "    <tr>\n",
              "      <th>39641</th>\n",
              "      <td>hilarious and lowbudget comedy at its best thi...</td>\n",
              "      <td>positive</td>\n",
              "    </tr>\n",
              "    <tr>\n",
              "      <th>48591</th>\n",
              "      <td>too bad chuck norris has gone to tv he made so...</td>\n",
              "      <td>negative</td>\n",
              "    </tr>\n",
              "    <tr>\n",
              "      <th>45242</th>\n",
              "      <td>what a time we live in when someone like this ...</td>\n",
              "      <td>negative</td>\n",
              "    </tr>\n",
              "    <tr>\n",
              "      <th>42862</th>\n",
              "      <td>uninspired direction leaves a decent cast stra...</td>\n",
              "      <td>negative</td>\n",
              "    </tr>\n",
              "    <tr>\n",
              "      <th>14105</th>\n",
              "      <td>i had high hopes for it when i heard that it w...</td>\n",
              "      <td>negative</td>\n",
              "    </tr>\n",
              "  </tbody>\n",
              "</table>\n",
              "</div>\n",
              "    <div class=\"colab-df-buttons\">\n",
              "\n",
              "  <div class=\"colab-df-container\">\n",
              "    <button class=\"colab-df-convert\" onclick=\"convertToInteractive('df-4cb8f56d-fab4-49e1-b908-bee4f11bf781')\"\n",
              "            title=\"Convert this dataframe to an interactive table.\"\n",
              "            style=\"display:none;\">\n",
              "\n",
              "  <svg xmlns=\"http://www.w3.org/2000/svg\" height=\"24px\" viewBox=\"0 -960 960 960\">\n",
              "    <path d=\"M120-120v-720h720v720H120Zm60-500h600v-160H180v160Zm220 220h160v-160H400v160Zm0 220h160v-160H400v160ZM180-400h160v-160H180v160Zm440 0h160v-160H620v160ZM180-180h160v-160H180v160Zm440 0h160v-160H620v160Z\"/>\n",
              "  </svg>\n",
              "    </button>\n",
              "\n",
              "  <style>\n",
              "    .colab-df-container {\n",
              "      display:flex;\n",
              "      gap: 12px;\n",
              "    }\n",
              "\n",
              "    .colab-df-convert {\n",
              "      background-color: #E8F0FE;\n",
              "      border: none;\n",
              "      border-radius: 50%;\n",
              "      cursor: pointer;\n",
              "      display: none;\n",
              "      fill: #1967D2;\n",
              "      height: 32px;\n",
              "      padding: 0 0 0 0;\n",
              "      width: 32px;\n",
              "    }\n",
              "\n",
              "    .colab-df-convert:hover {\n",
              "      background-color: #E2EBFA;\n",
              "      box-shadow: 0px 1px 2px rgba(60, 64, 67, 0.3), 0px 1px 3px 1px rgba(60, 64, 67, 0.15);\n",
              "      fill: #174EA6;\n",
              "    }\n",
              "\n",
              "    .colab-df-buttons div {\n",
              "      margin-bottom: 4px;\n",
              "    }\n",
              "\n",
              "    [theme=dark] .colab-df-convert {\n",
              "      background-color: #3B4455;\n",
              "      fill: #D2E3FC;\n",
              "    }\n",
              "\n",
              "    [theme=dark] .colab-df-convert:hover {\n",
              "      background-color: #434B5C;\n",
              "      box-shadow: 0px 1px 3px 1px rgba(0, 0, 0, 0.15);\n",
              "      filter: drop-shadow(0px 1px 2px rgba(0, 0, 0, 0.3));\n",
              "      fill: #FFFFFF;\n",
              "    }\n",
              "  </style>\n",
              "\n",
              "    <script>\n",
              "      const buttonEl =\n",
              "        document.querySelector('#df-4cb8f56d-fab4-49e1-b908-bee4f11bf781 button.colab-df-convert');\n",
              "      buttonEl.style.display =\n",
              "        google.colab.kernel.accessAllowed ? 'block' : 'none';\n",
              "\n",
              "      async function convertToInteractive(key) {\n",
              "        const element = document.querySelector('#df-4cb8f56d-fab4-49e1-b908-bee4f11bf781');\n",
              "        const dataTable =\n",
              "          await google.colab.kernel.invokeFunction('convertToInteractive',\n",
              "                                                    [key], {});\n",
              "        if (!dataTable) return;\n",
              "\n",
              "        const docLinkHtml = 'Like what you see? Visit the ' +\n",
              "          '<a target=\"_blank\" href=https://colab.research.google.com/notebooks/data_table.ipynb>data table notebook</a>'\n",
              "          + ' to learn more about interactive tables.';\n",
              "        element.innerHTML = '';\n",
              "        dataTable['output_type'] = 'display_data';\n",
              "        await google.colab.output.renderOutput(dataTable, element);\n",
              "        const docLink = document.createElement('div');\n",
              "        docLink.innerHTML = docLinkHtml;\n",
              "        element.appendChild(docLink);\n",
              "      }\n",
              "    </script>\n",
              "  </div>\n",
              "\n",
              "\n",
              "    <div id=\"df-d66b5f4f-41ea-4cbc-949a-ea61c34c497c\">\n",
              "      <button class=\"colab-df-quickchart\" onclick=\"quickchart('df-d66b5f4f-41ea-4cbc-949a-ea61c34c497c')\"\n",
              "                title=\"Suggest charts\"\n",
              "                style=\"display:none;\">\n",
              "\n",
              "<svg xmlns=\"http://www.w3.org/2000/svg\" height=\"24px\"viewBox=\"0 0 24 24\"\n",
              "     width=\"24px\">\n",
              "    <g>\n",
              "        <path d=\"M19 3H5c-1.1 0-2 .9-2 2v14c0 1.1.9 2 2 2h14c1.1 0 2-.9 2-2V5c0-1.1-.9-2-2-2zM9 17H7v-7h2v7zm4 0h-2V7h2v10zm4 0h-2v-4h2v4z\"/>\n",
              "    </g>\n",
              "</svg>\n",
              "      </button>\n",
              "\n",
              "<style>\n",
              "  .colab-df-quickchart {\n",
              "      --bg-color: #E8F0FE;\n",
              "      --fill-color: #1967D2;\n",
              "      --hover-bg-color: #E2EBFA;\n",
              "      --hover-fill-color: #174EA6;\n",
              "      --disabled-fill-color: #AAA;\n",
              "      --disabled-bg-color: #DDD;\n",
              "  }\n",
              "\n",
              "  [theme=dark] .colab-df-quickchart {\n",
              "      --bg-color: #3B4455;\n",
              "      --fill-color: #D2E3FC;\n",
              "      --hover-bg-color: #434B5C;\n",
              "      --hover-fill-color: #FFFFFF;\n",
              "      --disabled-bg-color: #3B4455;\n",
              "      --disabled-fill-color: #666;\n",
              "  }\n",
              "\n",
              "  .colab-df-quickchart {\n",
              "    background-color: var(--bg-color);\n",
              "    border: none;\n",
              "    border-radius: 50%;\n",
              "    cursor: pointer;\n",
              "    display: none;\n",
              "    fill: var(--fill-color);\n",
              "    height: 32px;\n",
              "    padding: 0;\n",
              "    width: 32px;\n",
              "  }\n",
              "\n",
              "  .colab-df-quickchart:hover {\n",
              "    background-color: var(--hover-bg-color);\n",
              "    box-shadow: 0 1px 2px rgba(60, 64, 67, 0.3), 0 1px 3px 1px rgba(60, 64, 67, 0.15);\n",
              "    fill: var(--button-hover-fill-color);\n",
              "  }\n",
              "\n",
              "  .colab-df-quickchart-complete:disabled,\n",
              "  .colab-df-quickchart-complete:disabled:hover {\n",
              "    background-color: var(--disabled-bg-color);\n",
              "    fill: var(--disabled-fill-color);\n",
              "    box-shadow: none;\n",
              "  }\n",
              "\n",
              "  .colab-df-spinner {\n",
              "    border: 2px solid var(--fill-color);\n",
              "    border-color: transparent;\n",
              "    border-bottom-color: var(--fill-color);\n",
              "    animation:\n",
              "      spin 1s steps(1) infinite;\n",
              "  }\n",
              "\n",
              "  @keyframes spin {\n",
              "    0% {\n",
              "      border-color: transparent;\n",
              "      border-bottom-color: var(--fill-color);\n",
              "      border-left-color: var(--fill-color);\n",
              "    }\n",
              "    20% {\n",
              "      border-color: transparent;\n",
              "      border-left-color: var(--fill-color);\n",
              "      border-top-color: var(--fill-color);\n",
              "    }\n",
              "    30% {\n",
              "      border-color: transparent;\n",
              "      border-left-color: var(--fill-color);\n",
              "      border-top-color: var(--fill-color);\n",
              "      border-right-color: var(--fill-color);\n",
              "    }\n",
              "    40% {\n",
              "      border-color: transparent;\n",
              "      border-right-color: var(--fill-color);\n",
              "      border-top-color: var(--fill-color);\n",
              "    }\n",
              "    60% {\n",
              "      border-color: transparent;\n",
              "      border-right-color: var(--fill-color);\n",
              "    }\n",
              "    80% {\n",
              "      border-color: transparent;\n",
              "      border-right-color: var(--fill-color);\n",
              "      border-bottom-color: var(--fill-color);\n",
              "    }\n",
              "    90% {\n",
              "      border-color: transparent;\n",
              "      border-bottom-color: var(--fill-color);\n",
              "    }\n",
              "  }\n",
              "</style>\n",
              "\n",
              "      <script>\n",
              "        async function quickchart(key) {\n",
              "          const quickchartButtonEl =\n",
              "            document.querySelector('#' + key + ' button');\n",
              "          quickchartButtonEl.disabled = true;  // To prevent multiple clicks.\n",
              "          quickchartButtonEl.classList.add('colab-df-spinner');\n",
              "          try {\n",
              "            const charts = await google.colab.kernel.invokeFunction(\n",
              "                'suggestCharts', [key], {});\n",
              "          } catch (error) {\n",
              "            console.error('Error during call to suggestCharts:', error);\n",
              "          }\n",
              "          quickchartButtonEl.classList.remove('colab-df-spinner');\n",
              "          quickchartButtonEl.classList.add('colab-df-quickchart-complete');\n",
              "        }\n",
              "        (() => {\n",
              "          let quickchartButtonEl =\n",
              "            document.querySelector('#df-d66b5f4f-41ea-4cbc-949a-ea61c34c497c button');\n",
              "          quickchartButtonEl.style.display =\n",
              "            google.colab.kernel.accessAllowed ? 'block' : 'none';\n",
              "        })();\n",
              "      </script>\n",
              "    </div>\n",
              "\n",
              "    </div>\n",
              "  </div>\n"
            ],
            "application/vnd.google.colaboratory.intrinsic+json": {
              "type": "dataframe",
              "summary": "{\n  \"name\": \"df\",\n  \"rows\": 5,\n  \"fields\": [\n    {\n      \"column\": \"review\",\n      \"properties\": {\n        \"dtype\": \"string\",\n        \"num_unique_values\": 5,\n        \"samples\": [\n          \"too bad chuck norris has gone to tv he made some good movies before he hit tv this is a typical tv movie intended to pass the time unfortunately it wastes chucks talent as an actor i hope he returns to the big screen some day\",\n          \"i had high hopes for it when i heard that it was being made back in 2001 because i read the devil and daniel webster when i was a kid and i found it very interesting they made some changes to the story that dont make much sense to me daniel webster in the story was a famous lawyer from new hampshire in the story in the movie he is an editor a lawyer makes more sense since he ends up representing jabez stone against the devil himherself he was a man in the story but was a woman in the movie in a trial where both of their souls are on the line as an editor it doesnt seem likely that daniel webster would have the skill to do thisthe acting was decent by all except for alec baldwin and dan aykroyd these are two actors that i like they just did an awful job in this movie it was as though they thought they were acting in a comedy but the movie was more a serious one than a comedy this might be partly due to the fact that the movie was filmed with a particular vision in mind and was then reedited by somebody else given this fact its surprising that it was at all coherent i was surprised to see a fair amount of snl cast members in the movie which further leads me to believe it may have originally been filmed with the intention of it being more of a comedyall in all i would have to say it wasnt completely awful but it wasnt much good if i could get the hour and a half back and do something else with it i would the ending was especially disappointing as in the original story daniel webster defeats the devil in the trial jabez then starts out again at the beginning of the movieliterally we are just brought back to the first scene with jabez and then the movie abruptly ends it actually looked as though they just replayed jabez first scene over and called it the end there is no indication that jabez has the benefit of any of the knowledge or experience he gained so who is to say he didnt just repeat his mistakes over again and perhaps over and over in an endless loop it was an extremely disappointing end and did not make a lot of sense the decent cast and the acting of everyone except for baldwin and aykroyd are the only things that keep this from being a complete and total crap sandwich\",\n          \"what a time we live in when someone like this joe swanwhatever the hell is considered a good filmmakeror even a filmmaker at all where are the new crop of filmmakers with brains and talent we need them bad and to hell with mumblecorethis movie is about nothing just as the characters in the film stand for nothing its this horrible socalled gen y that is full of bored idiots some of which declare themselves filmmakers with out bothering to learn anything about the craft before shooting well orson welles was a filmmaker john huston was a filmmaker fellini was a filmmaker dreyer was a filmmaker etc current films like these show just how stupid young socalled filmmakers can be when they believe going out with no script no direction no thought no legit camerawork everything shot horribly on dv no craft of editing no nothing stands for rebellious or advanced filmmaking nope its called ignorance and laziness or just pure masturbation of cinema and there actually is an inyourface jackoff shot so be ready look at the early films of any accomplished indie filmmaker linklatter morris allen lynch hartley jarmusch jost lee or herzognone made anything as tedious and aimless as this yet swanwhatever the hell is still going to sxsw every year and hailed as some kind of gutsy new talent its crap i cant imagine anyone liking this and everything else this socalled filmmaker has done all seen by me is just as bad the newer stuff clearly made to appeal to a more mainstream audience one of the sitcom calling steer clear unless youre a friend or family member of those involvedon second thought if youre a family member or friend youd probably be embarrassed to see a family member or friend in such compromising situationsutter garbage this isnt art this is the ultimate opposite of it\"\n        ],\n        \"semantic_type\": \"\",\n        \"description\": \"\"\n      }\n    },\n    {\n      \"column\": \"sentiment\",\n      \"properties\": {\n        \"dtype\": \"category\",\n        \"num_unique_values\": 2,\n        \"samples\": [\n          \"negative\",\n          \"positive\"\n        ],\n        \"semantic_type\": \"\",\n        \"description\": \"\"\n      }\n    }\n  ]\n}"
            }
          },
          "metadata": {},
          "execution_count": 46
        }
      ]
    },
    {
      "cell_type": "markdown",
      "source": [
        "`str.maketrans()` is used to create a mapping of characters to be replaced. In this case, the first two arguments are empty strings, meaning no characters are being mapped to other characters. The third argument, string.punctuation, provides a string containing all standard punctuation characters. This tells maketrans to map each of these punctuation characters to None, effectively marking them for deletion."
      ],
      "metadata": {
        "id": "7P3vFN5HVp9x"
      }
    },
    {
      "cell_type": "code",
      "source": [
        "df['review'][49]"
      ],
      "metadata": {
        "colab": {
          "base_uri": "https://localhost:8080/",
          "height": 122
        },
        "id": "1TuvgqRbV-On",
        "outputId": "e47f9878-5e6e-4ca6-aef5-cf78d28344e6"
      },
      "execution_count": 47,
      "outputs": [
        {
          "output_type": "execute_result",
          "data": {
            "text/plain": [
              "'average and surprisingly tame fulci giallo which means its still quite bad by normal standards but redeemed by its solid buildup and some nice touches such as a neat time twist on the issues of visions and clairvoyancethe genres wellknown weaknesses are in full gear banal dialogue wooden acting illogical plot points and the finale goes on much too long while the denouement proves to be a rather lame or shall i say limp affairfulcis ironic handling of giallo norms is amusing though yellow clues wherever you look3 out of 10 limping killers'"
            ],
            "application/vnd.google.colaboratory.intrinsic+json": {
              "type": "string"
            }
          },
          "metadata": {},
          "execution_count": 47
        }
      ]
    },
    {
      "cell_type": "markdown",
      "source": [
        "## 3. Chat word Treatment"
      ],
      "metadata": {
        "id": "kAOpGH70Wz2h"
      }
    },
    {
      "cell_type": "code",
      "source": [
        "file_path = '/content/drive/MyDrive/Datasets/chat_words_dictionary.txt'\n",
        "\n",
        "try:\n",
        "    with open(file_path, 'r') as f:\n",
        "        file_content = f.read()\n",
        "\n",
        "        chat_words_dict = {}\n",
        "        for line in file_content.strip().split('\\n'):\n",
        "            if '=' in line:\n",
        "                abbr, full_form = line.split('=', 1)\n",
        "                chat_words_dict[abbr.strip()] = full_form.strip()\n",
        "\n",
        "        print(\"\\nChat word dictionary created:\")\n",
        "        display(chat_words_dict)\n",
        "\n",
        "except FileNotFoundError:\n",
        "    print(f\"Error: File not found at {file_path}\")\n",
        "except Exception as e:\n",
        "    print(f\"An error occurred: {e}\")"
      ],
      "metadata": {
        "colab": {
          "base_uri": "https://localhost:8080/",
          "height": 1000
        },
        "id": "CHywHgRfZwfp",
        "outputId": "dae45f3d-7873-4f75-b5ec-1de74d4059ee"
      },
      "execution_count": 45,
      "outputs": [
        {
          "output_type": "stream",
          "name": "stdout",
          "text": [
            "\n",
            "Chat word dictionary created:\n"
          ]
        },
        {
          "output_type": "display_data",
          "data": {
            "text/plain": [
              "{'afaik': 'as far as i know',\n",
              " 'afk': 'away from keyboard',\n",
              " 'asap': 'as soon as possible',\n",
              " 'atk': 'at the keyboard',\n",
              " 'atm': 'at the moment',\n",
              " 'a3': 'anytime anywhere anyplace',\n",
              " 'bak': 'back at keyboard',\n",
              " 'bbl': 'be back later',\n",
              " 'bbs': 'be back soon',\n",
              " 'bfn': 'bye for now',\n",
              " 'brb': 'be right back',\n",
              " 'brt': 'be right there',\n",
              " 'btw': 'by the way',\n",
              " 'b4': 'before',\n",
              " 'cu': 'see you',\n",
              " 'cul8r': 'see you later',\n",
              " 'faq': 'frequently asked questions',\n",
              " 'fc': 'fingers crossed',\n",
              " 'fwiw': 'for what its worth',\n",
              " 'fyi': 'for your information',\n",
              " 'gal': 'get a life',\n",
              " 'gg': 'good game',\n",
              " 'gn': 'good night',\n",
              " 'gday': 'good day',\n",
              " 'gmta': 'great minds think alike',\n",
              " 'gr8': 'great',\n",
              " 'g9': 'genius',\n",
              " 'iykyk': 'if you know you know',\n",
              " 'ic': 'i see',\n",
              " 'icq': 'i seek you also a chat program',\n",
              " 'ilu': 'ilu i love you',\n",
              " 'imho': 'in my honesthumble opinion',\n",
              " 'imo': 'in my opinion',\n",
              " 'iow': 'in other words',\n",
              " 'irl': 'in real life',\n",
              " 'kiss': 'keep it simple stupid',\n",
              " 'ldr': 'long distance relationship',\n",
              " 'lmao': 'laughing my ass off',\n",
              " 'lol': 'laughing out loud',\n",
              " 'ltns': 'long time no see',\n",
              " 'l8r': 'later',\n",
              " 'mte': 'my thoughts exactly',\n",
              " 'm8': 'mate',\n",
              " 'nrn': 'no reply necessary',\n",
              " 'oic': 'oh i see',\n",
              " 'pita': 'pain in the ass',\n",
              " 'prt': 'party',\n",
              " 'prw': 'parents are watching',\n",
              " 'qpsa': 'que pasa',\n",
              " 'rofl': 'rolling on the floor laughing',\n",
              " 'roflol': 'rolling on the floor laughing out loud',\n",
              " 'rotflmao': 'rolling on the floor laughing my ass off',\n",
              " 'sk8': 'skate',\n",
              " 'stats': 'your sex and age',\n",
              " 'asl': 'age sex location',\n",
              " 'thx': 'thank you',\n",
              " 'ttfn': 'tata for now',\n",
              " 'ttyl': 'talk to you later',\n",
              " 'u': 'you',\n",
              " 'u2': 'you too',\n",
              " 'u4e': 'yours for ever',\n",
              " 'wb': 'welcome back',\n",
              " 'wtf': 'what the fuck',\n",
              " 'wtg': 'way to go',\n",
              " 'wuf': 'where are you from',\n",
              " 'w8': 'wait',\n",
              " 'tfw': 'that feeling when',\n",
              " 'mfw': 'my face when',\n",
              " 'mrw': 'my reaction when',\n",
              " 'ifyp': 'i feel your pain',\n",
              " 'tntl': 'trying not to laugh',\n",
              " 'jk': 'just kidding',\n",
              " 'idc': 'i don’t care',\n",
              " 'ily': 'i love you',\n",
              " 'imu': 'i miss you',\n",
              " 'adih': 'another day in hell',\n",
              " 'zzz': 'sleeping bored tired',\n",
              " 'wywh': 'wish you were here',\n",
              " 'time': 'tears in my eyes',\n",
              " 'bae': 'before anyone else',\n",
              " 'fimh': 'forever in my heart',\n",
              " 'bsaaw': 'big smile and a wink',\n",
              " 'bwl': 'bursting with laughter',\n",
              " 'csl': 'can’t stop laughing',\n",
              " 'sry': 'sorry'}"
            ]
          },
          "metadata": {}
        }
      ]
    },
    {
      "cell_type": "markdown",
      "source": [
        "**We can use this on a dataset in relevant dataset. To convert slangs and chat words to normal language. **"
      ],
      "metadata": {
        "id": "4ShqeEpcAlwg"
      }
    },
    {
      "cell_type": "code",
      "source": [
        "def chat_conversion(text):\n",
        "  new_text = []\n",
        "  for w in text.split():\n",
        "    if w.lower() in chat_words_dict:\n",
        "      new_text.append(chat_words_dict[w.lower()])\n",
        "    else:\n",
        "      new_text.append(w)\n",
        "  return \" \".join(new_text)"
      ],
      "metadata": {
        "id": "7YMD6QEBdS-w"
      },
      "execution_count": 46,
      "outputs": []
    },
    {
      "cell_type": "code",
      "source": [
        "chat_conversion('gday man, sry u had to w8 for so long.')"
      ],
      "metadata": {
        "colab": {
          "base_uri": "https://localhost:8080/",
          "height": 35
        },
        "id": "w_TuW6_XAlUF",
        "outputId": "02095631-8092-4aaa-f163-724f0c791785"
      },
      "execution_count": 47,
      "outputs": [
        {
          "output_type": "execute_result",
          "data": {
            "text/plain": [
              "'good day man, sorry you had to wait for so long.'"
            ],
            "application/vnd.google.colaboratory.intrinsic+json": {
              "type": "string"
            }
          },
          "metadata": {},
          "execution_count": 47
        }
      ]
    },
    {
      "cell_type": "markdown",
      "source": [
        "## 4. Spell checker"
      ],
      "metadata": {
        "id": "OMScDsz-F40R"
      }
    },
    {
      "cell_type": "code",
      "metadata": {
        "id": "6f11a8f4"
      },
      "source": [
        "from textblob import TextBlob"
      ],
      "execution_count": 48,
      "outputs": []
    },
    {
      "cell_type": "code",
      "source": [
        "incorrect_text = 'ploiec esacrh for car involved in ftala hit run'\n",
        "\n",
        "textBlb = TextBlob(incorrect_text)\n",
        "\n",
        "correct_text = textBlb.correct().string\n",
        "\n",
        "print(f\"\\nOriginal sentence: {incorrect_text}\")\n",
        "print(f\"Corrected sentence: {correct_text}\")"
      ],
      "metadata": {
        "colab": {
          "base_uri": "https://localhost:8080/"
        },
        "id": "ihdkfoOGGMuj",
        "outputId": "da943006-b67f-4544-f333-4add6fe2479e"
      },
      "execution_count": 63,
      "outputs": [
        {
          "output_type": "stream",
          "name": "stdout",
          "text": [
            "\n",
            "Original sentence: ploiec esacrh for car involved in ftala hit run\n",
            "Corrected sentence: police each for car involved in talk hit run\n"
          ]
        }
      ]
    },
    {
      "cell_type": "code",
      "metadata": {
        "id": "69c83b62"
      },
      "source": [
        "#!pip install pyspellchecker"
      ],
      "execution_count": 64,
      "outputs": []
    },
    {
      "cell_type": "code",
      "metadata": {
        "colab": {
          "base_uri": "https://localhost:8080/"
        },
        "id": "7eae05a8",
        "outputId": "9c0b04eb-dff6-41d6-832d-cbaf4425386a"
      },
      "source": [
        "from spellchecker import SpellChecker\n",
        "\n",
        "spell = SpellChecker()\n",
        "\n",
        "words = incorrect_text.split()\n",
        "corrected_sentence = []\n",
        "for word in words:\n",
        "    corrected_sentence.append(spell.correction(word) if spell.correction(word) is not None else word)\n",
        "\n",
        "print(f\"\\nOriginal sentence: {incorrect_text}\")\n",
        "print(f\"Corrected sentence: {' '.join(corrected_sentence)}\")"
      ],
      "execution_count": 65,
      "outputs": [
        {
          "output_type": "stream",
          "name": "stdout",
          "text": [
            "\n",
            "Original sentence: ploiec esacrh for car involved in ftala hit run\n",
            "Corrected sentence: police each for car involved in tala hit run\n"
          ]
        }
      ]
    },
    {
      "cell_type": "markdown",
      "source": [
        "## 5. Stopwords"
      ],
      "metadata": {
        "id": "NCaDEViXKRqY"
      }
    },
    {
      "cell_type": "markdown",
      "metadata": {
        "id": "9da98c38"
      },
      "source": [
        "**What are Stopwords?**\n",
        "Stopwords are common words in a language (like \"the\", \"a\", \"is\", \"in\") that are often removed from text during preprocessing because they don't usually carry significant meaning and can add noise to analysis.\n",
        "\n",
        "**When to Remove Them:**\n",
        "Remove stopwords for tasks where the focus is on the important keywords and their frequencies, such as:\n",
        "- Text classification\n",
        "- Information retrieval\n",
        "- Topic modeling\n",
        "\n",
        "**When to Keep Them:**\n",
        "Keep stopwords when their presence is important for understanding the context or structure of the text, such as:\n",
        "- Sentiment analysis (words like \"not\" can change the meaning)\n",
        "- Language translation\n",
        "- Text generation\n",
        "- When analyzing sentence structure or syntax."
      ]
    },
    {
      "cell_type": "code",
      "source": [
        "from nltk.corpus import stopwords"
      ],
      "metadata": {
        "id": "_-qYXiP-K0-k"
      },
      "execution_count": 66,
      "outputs": []
    },
    {
      "cell_type": "code",
      "metadata": {
        "colab": {
          "base_uri": "https://localhost:8080/"
        },
        "id": "7dd419c9",
        "outputId": "6cae9b82-f8cb-40d5-d449-9a87c4bca552"
      },
      "source": [
        "import nltk\n",
        "nltk.download('stopwords')"
      ],
      "execution_count": 69,
      "outputs": [
        {
          "output_type": "stream",
          "name": "stderr",
          "text": [
            "[nltk_data] Downloading package stopwords to /root/nltk_data...\n",
            "[nltk_data]   Package stopwords is already up-to-date!\n"
          ]
        },
        {
          "output_type": "execute_result",
          "data": {
            "text/plain": [
              "True"
            ]
          },
          "metadata": {},
          "execution_count": 69
        }
      ]
    },
    {
      "cell_type": "code",
      "source": [
        "stopwords.words('english')"
      ],
      "metadata": {
        "colab": {
          "base_uri": "https://localhost:8080/"
        },
        "id": "pw456Km1LZCL",
        "outputId": "4a1742de-a00e-46f2-b460-33887cbf5452"
      },
      "execution_count": 70,
      "outputs": [
        {
          "output_type": "execute_result",
          "data": {
            "text/plain": [
              "['a',\n",
              " 'about',\n",
              " 'above',\n",
              " 'after',\n",
              " 'again',\n",
              " 'against',\n",
              " 'ain',\n",
              " 'all',\n",
              " 'am',\n",
              " 'an',\n",
              " 'and',\n",
              " 'any',\n",
              " 'are',\n",
              " 'aren',\n",
              " \"aren't\",\n",
              " 'as',\n",
              " 'at',\n",
              " 'be',\n",
              " 'because',\n",
              " 'been',\n",
              " 'before',\n",
              " 'being',\n",
              " 'below',\n",
              " 'between',\n",
              " 'both',\n",
              " 'but',\n",
              " 'by',\n",
              " 'can',\n",
              " 'couldn',\n",
              " \"couldn't\",\n",
              " 'd',\n",
              " 'did',\n",
              " 'didn',\n",
              " \"didn't\",\n",
              " 'do',\n",
              " 'does',\n",
              " 'doesn',\n",
              " \"doesn't\",\n",
              " 'doing',\n",
              " 'don',\n",
              " \"don't\",\n",
              " 'down',\n",
              " 'during',\n",
              " 'each',\n",
              " 'few',\n",
              " 'for',\n",
              " 'from',\n",
              " 'further',\n",
              " 'had',\n",
              " 'hadn',\n",
              " \"hadn't\",\n",
              " 'has',\n",
              " 'hasn',\n",
              " \"hasn't\",\n",
              " 'have',\n",
              " 'haven',\n",
              " \"haven't\",\n",
              " 'having',\n",
              " 'he',\n",
              " \"he'd\",\n",
              " \"he'll\",\n",
              " 'her',\n",
              " 'here',\n",
              " 'hers',\n",
              " 'herself',\n",
              " \"he's\",\n",
              " 'him',\n",
              " 'himself',\n",
              " 'his',\n",
              " 'how',\n",
              " 'i',\n",
              " \"i'd\",\n",
              " 'if',\n",
              " \"i'll\",\n",
              " \"i'm\",\n",
              " 'in',\n",
              " 'into',\n",
              " 'is',\n",
              " 'isn',\n",
              " \"isn't\",\n",
              " 'it',\n",
              " \"it'd\",\n",
              " \"it'll\",\n",
              " \"it's\",\n",
              " 'its',\n",
              " 'itself',\n",
              " \"i've\",\n",
              " 'just',\n",
              " 'll',\n",
              " 'm',\n",
              " 'ma',\n",
              " 'me',\n",
              " 'mightn',\n",
              " \"mightn't\",\n",
              " 'more',\n",
              " 'most',\n",
              " 'mustn',\n",
              " \"mustn't\",\n",
              " 'my',\n",
              " 'myself',\n",
              " 'needn',\n",
              " \"needn't\",\n",
              " 'no',\n",
              " 'nor',\n",
              " 'not',\n",
              " 'now',\n",
              " 'o',\n",
              " 'of',\n",
              " 'off',\n",
              " 'on',\n",
              " 'once',\n",
              " 'only',\n",
              " 'or',\n",
              " 'other',\n",
              " 'our',\n",
              " 'ours',\n",
              " 'ourselves',\n",
              " 'out',\n",
              " 'over',\n",
              " 'own',\n",
              " 're',\n",
              " 's',\n",
              " 'same',\n",
              " 'shan',\n",
              " \"shan't\",\n",
              " 'she',\n",
              " \"she'd\",\n",
              " \"she'll\",\n",
              " \"she's\",\n",
              " 'should',\n",
              " 'shouldn',\n",
              " \"shouldn't\",\n",
              " \"should've\",\n",
              " 'so',\n",
              " 'some',\n",
              " 'such',\n",
              " 't',\n",
              " 'than',\n",
              " 'that',\n",
              " \"that'll\",\n",
              " 'the',\n",
              " 'their',\n",
              " 'theirs',\n",
              " 'them',\n",
              " 'themselves',\n",
              " 'then',\n",
              " 'there',\n",
              " 'these',\n",
              " 'they',\n",
              " \"they'd\",\n",
              " \"they'll\",\n",
              " \"they're\",\n",
              " \"they've\",\n",
              " 'this',\n",
              " 'those',\n",
              " 'through',\n",
              " 'to',\n",
              " 'too',\n",
              " 'under',\n",
              " 'until',\n",
              " 'up',\n",
              " 've',\n",
              " 'very',\n",
              " 'was',\n",
              " 'wasn',\n",
              " \"wasn't\",\n",
              " 'we',\n",
              " \"we'd\",\n",
              " \"we'll\",\n",
              " \"we're\",\n",
              " 'were',\n",
              " 'weren',\n",
              " \"weren't\",\n",
              " \"we've\",\n",
              " 'what',\n",
              " 'when',\n",
              " 'where',\n",
              " 'which',\n",
              " 'while',\n",
              " 'who',\n",
              " 'whom',\n",
              " 'why',\n",
              " 'will',\n",
              " 'with',\n",
              " 'won',\n",
              " \"won't\",\n",
              " 'wouldn',\n",
              " \"wouldn't\",\n",
              " 'y',\n",
              " 'you',\n",
              " \"you'd\",\n",
              " \"you'll\",\n",
              " 'your',\n",
              " \"you're\",\n",
              " 'yours',\n",
              " 'yourself',\n",
              " 'yourselves',\n",
              " \"you've\"]"
            ]
          },
          "metadata": {},
          "execution_count": 70
        }
      ]
    },
    {
      "cell_type": "code",
      "source": [
        "def remove_stopwords(text):\n",
        "    new_text = []\n",
        "\n",
        "    for word in text.split():\n",
        "        if word in stopwords.words('english'):\n",
        "            new_text.append('')\n",
        "        else:\n",
        "            new_text.append(word)\n",
        "    return \" \".join(new_text)"
      ],
      "metadata": {
        "id": "aYFpJZ3MLgfE"
      },
      "execution_count": 71,
      "outputs": []
    },
    {
      "cell_type": "code",
      "source": [
        "remove_stopwords('this is a sample sentence')"
      ],
      "metadata": {
        "colab": {
          "base_uri": "https://localhost:8080/",
          "height": 35
        },
        "id": "bt7oOECHMcT8",
        "outputId": "5ab13570-8a86-4d03-b11e-ccd9c4e4298b"
      },
      "execution_count": 72,
      "outputs": [
        {
          "output_type": "execute_result",
          "data": {
            "text/plain": [
              "'   sample sentence'"
            ],
            "application/vnd.google.colaboratory.intrinsic+json": {
              "type": "string"
            }
          },
          "metadata": {},
          "execution_count": 72
        }
      ]
    },
    {
      "cell_type": "markdown",
      "source": [
        "## 6. Handling Emojis\n"
      ],
      "metadata": {
        "id": "kXY5kvvZM5Yh"
      }
    },
    {
      "cell_type": "markdown",
      "metadata": {
        "id": "46686a56"
      },
      "source": [
        "\n",
        "\n",
        "Emojis are increasingly common in text and can carry significant sentiment and meaning. When processing text for NLP tasks, you might need to handle emojis. Common approaches include:\n",
        "\n",
        "*   **Removal:** Simply remove emojis from the text if they are not relevant to your analysis.\n",
        "*   **Replacement with text:** Replace emojis with their textual descriptions (e.g., converting 😊 to \"smiling face with smiling eyes\"). This can be useful for sentiment analysis. Libraries like `emoji` can help with this.\n",
        "*   **Treating as separate tokens:** Keep emojis as they are but treat them as individual tokens during tokenization. This preserves their presence and can be useful in some models."
      ]
    },
    {
      "cell_type": "code",
      "source": [
        "import re\n",
        "\n",
        "def remove_emoji(text):\n",
        "  emoji_pattern = re.compile(\"[\"\n",
        "                               u\"\\U0001F600-\\U0001F64F\"  # emoticons\n",
        "                               u\"\\U0001F300-\\U0001F5FF\"  # symbols & pictographs\n",
        "                               u\"\\U0001F680-\\U0001F6FF\"  # transport & map symbols\n",
        "                               u\"\\U0001F1E0-\\U0001F1FF\"  # flags (iOS)\n",
        "                               u\"\\U0002702-\\U00027B0\"\n",
        "                               u\"\\U00024C2-\\U0001F251\"\n",
        "                               \"]+\", flags=re.UNICODE)\n",
        "  return emoji_pattern.sub(r'', text)"
      ],
      "metadata": {
        "colab": {
          "base_uri": "https://localhost:8080/",
          "height": 124
        },
        "id": "fOZobajyNmM-",
        "outputId": "74fd4657-5683-4466-f1fc-a5c18aad54e9"
      },
      "execution_count": 77,
      "outputs": [
        {
          "output_type": "error",
          "ename": "SyntaxError",
          "evalue": "(unicode error) 'unicodeescape' codec can't decode bytes in position 0-8: truncated \\UXXXXXXXX escape (ipython-input-77-3132311563.py, line 11)",
          "traceback": [
            "\u001b[0;36m  File \u001b[0;32m\"/tmp/ipython-input-77-3132311563.py\"\u001b[0;36m, line \u001b[0;32m11\u001b[0m\n\u001b[0;31m    \"]+\", flags=re.UNICODE)\u001b[0m\n\u001b[0m        ^\u001b[0m\n\u001b[0;31mSyntaxError\u001b[0m\u001b[0;31m:\u001b[0m (unicode error) 'unicodeescape' codec can't decode bytes in position 0-8: truncated \\UXXXXXXXX escape\n"
          ]
        }
      ]
    },
    {
      "cell_type": "code",
      "source": [
        "!pip install emoji"
      ],
      "metadata": {
        "colab": {
          "base_uri": "https://localhost:8080/"
        },
        "id": "ANOOO0laQZng",
        "outputId": "de46eca9-2da0-4cf8-a907-b9fa7f6c5733"
      },
      "execution_count": 78,
      "outputs": [
        {
          "output_type": "stream",
          "name": "stdout",
          "text": [
            "Collecting emoji\n",
            "  Downloading emoji-2.14.1-py3-none-any.whl.metadata (5.7 kB)\n",
            "Downloading emoji-2.14.1-py3-none-any.whl (590 kB)\n",
            "\u001b[2K   \u001b[90m━━━━━━━━━━━━━━━━━━━━━━━━━━━━━━━━━━━━━━━━\u001b[0m \u001b[32m590.6/590.6 kB\u001b[0m \u001b[31m9.1 MB/s\u001b[0m eta \u001b[36m0:00:00\u001b[0m\n",
            "\u001b[?25hInstalling collected packages: emoji\n",
            "Successfully installed emoji-2.14.1\n"
          ]
        }
      ]
    },
    {
      "cell_type": "code",
      "source": [
        "import emoji\n",
        "\n",
        "def emoji_to_text(text):\n",
        "    return emoji.demojize(text)\n",
        "\n",
        "# Example usage\n",
        "text_with_emojis = \"I feel great! 😁\"\n",
        "converted_text = emoji_to_text(text_with_emojis)\n",
        "print(\"Converted text:\", converted_text)"
      ],
      "metadata": {
        "colab": {
          "base_uri": "https://localhost:8080/"
        },
        "id": "gyXfwQ-4N3hk",
        "outputId": "d5d6f5be-8bd3-40f3-d90f-f964d246ee12"
      },
      "execution_count": 83,
      "outputs": [
        {
          "output_type": "stream",
          "name": "stdout",
          "text": [
            "Converted text: I feel great! :beaming_face_with_smiling_eyes:\n"
          ]
        }
      ]
    },
    {
      "cell_type": "code",
      "source": [
        "def detect_emojis(text):\n",
        "    return [char for char in text if char in emoji.EMOJI_DATA]\n",
        "\n",
        "text = \"I feel great! 😁 ❤️👍\"\n",
        "emojis_found = detect_emojis(text)\n",
        "print(\"Emojis detected:\", emojis_found)"
      ],
      "metadata": {
        "colab": {
          "base_uri": "https://localhost:8080/"
        },
        "id": "sj1xycUlQ10A",
        "outputId": "85664689-36aa-429b-82d6-621ed06daba9"
      },
      "execution_count": 85,
      "outputs": [
        {
          "output_type": "stream",
          "name": "stdout",
          "text": [
            "Emojis detected: ['😁', '❤', '👍']\n"
          ]
        }
      ]
    },
    {
      "cell_type": "code",
      "source": [
        "def remove_emojis(text):\n",
        "    return ''.join(char for char in text if char not in emoji.EMOJI_DATA)\n",
        "\n",
        "cleaned_text = remove_emojis(text)\n",
        "print(\"Text after emoji removal:\", cleaned_text)"
      ],
      "metadata": {
        "colab": {
          "base_uri": "https://localhost:8080/"
        },
        "id": "a-YJr_vjQdCB",
        "outputId": "1ace87f1-0219-4de9-a0a1-ae6404771015"
      },
      "execution_count": 86,
      "outputs": [
        {
          "output_type": "stream",
          "name": "stdout",
          "text": [
            "Text after emoji removal: I feel great!  ️\n"
          ]
        }
      ]
    },
    {
      "cell_type": "markdown",
      "source": [
        "## 7. Tokenization"
      ],
      "metadata": {
        "id": "tuGRSikJRZlb"
      }
    },
    {
      "cell_type": "code",
      "source": [],
      "metadata": {
        "id": "ySnUb8E0QyCe"
      },
      "execution_count": null,
      "outputs": []
    },
    {
      "cell_type": "markdown",
      "metadata": {
        "id": "d4bf9265"
      },
      "source": [
        "**What is Tokenization?**\n",
        "Tokenization is the process of breaking down a sequence of text into smaller units called tokens. These tokens can be words, subwords, or even individual characters, depending on the granularity required for the NLP task.\n",
        "\n",
        "**When to Keep/Remove Tokens:**\n",
        "\n",
        "*   **Keeping Word Tokens:** This is the most common approach. Keeping words as tokens is essential for most NLP tasks like text classification, sentiment analysis, and topic modeling, as words carry the primary meaning.\n",
        "*   **Removing Punctuation Tokens:** Often, punctuation is removed as it might not contribute to the meaning and can increase the vocabulary size unnecessarily. However, in some cases like sentiment analysis, punctuation like \"!\" or \"?\" can be important.\n",
        "*   **Removing Stopword Tokens:** As discussed earlier, stopwords (common words like \"the\", \"a\", \"is\") are often removed when their presence doesn't add significant value to the analysis.\n",
        "*   **Keeping Subword Tokens:** For languages with complex morphology or when dealing with out-of-vocabulary words, tokenizing into subwords (like using WordPiece or BPE) can be beneficial. This is often used in transformer models.\n",
        "*   **Keeping Character Tokens:** In some specific tasks like character-level language modeling or sequence-to-sequence tasks, tokenizing into individual characters might be necessary.\n",
        "*   **Handling Special Tokens:** Depending on the model or task, special tokens (like `[CLS]`, `[SEP]`, `[PAD]`) are added and should be kept for the model to function correctly."
      ]
    },
    {
      "cell_type": "markdown",
      "source": [
        "### Word level spliting"
      ],
      "metadata": {
        "id": "pjiJ96Q1aGnF"
      }
    },
    {
      "cell_type": "code",
      "source": [
        "sentence = \"I am from Barishal\"\n",
        "sentence.split()"
      ],
      "metadata": {
        "colab": {
          "base_uri": "https://localhost:8080/"
        },
        "id": "zXhFRltJYpbJ",
        "outputId": "ce35fbc0-2ac6-4632-f104-2bcbf3299fe2"
      },
      "execution_count": 88,
      "outputs": [
        {
          "output_type": "execute_result",
          "data": {
            "text/plain": [
              "['I', 'am', 'from', 'Barishal']"
            ]
          },
          "metadata": {},
          "execution_count": 88
        }
      ]
    },
    {
      "cell_type": "markdown",
      "source": [
        "### Sentence level spliting"
      ],
      "metadata": {
        "id": "_7oy-WzKaRpw"
      }
    },
    {
      "cell_type": "code",
      "source": [
        "sentence = \"I am going to Dhaka. It is a big city. So many people live there.\"\n",
        "sentence.split('.')"
      ],
      "metadata": {
        "colab": {
          "base_uri": "https://localhost:8080/"
        },
        "id": "NR79LzBDZ71h",
        "outputId": "30fe080b-4cc8-4009-85f4-1746b61fc760"
      },
      "execution_count": 89,
      "outputs": [
        {
          "output_type": "execute_result",
          "data": {
            "text/plain": [
              "['I am going to Dhaka', ' It is a big city', ' So many people live there', '']"
            ]
          },
          "metadata": {},
          "execution_count": 89
        }
      ]
    },
    {
      "cell_type": "markdown",
      "source": [
        "*Limitation: You can see a string at the end of the list. It should not be there!*"
      ],
      "metadata": {
        "id": "eyt40pHDbDlD"
      }
    },
    {
      "cell_type": "code",
      "source": [
        "sentence = \"I am going to Dhaka! It is a big city. So many people live there\"\n",
        "sentence.split()"
      ],
      "metadata": {
        "colab": {
          "base_uri": "https://localhost:8080/"
        },
        "id": "ulWCe0eOawUR",
        "outputId": "b06e7d20-7e05-414a-94be-095540a1d0e4"
      },
      "execution_count": 92,
      "outputs": [
        {
          "output_type": "execute_result",
          "data": {
            "text/plain": [
              "['I',\n",
              " 'am',\n",
              " 'going',\n",
              " 'to',\n",
              " 'Dhaka!',\n",
              " 'It',\n",
              " 'is',\n",
              " 'a',\n",
              " 'big',\n",
              " 'city.',\n",
              " 'So',\n",
              " 'many',\n",
              " 'people',\n",
              " 'live',\n",
              " 'there']"
            ]
          },
          "metadata": {},
          "execution_count": 92
        }
      ]
    },
    {
      "cell_type": "markdown",
      "source": [
        "*Limitation: 'Dhaka' and '!' should be 2 differnt tockens.*"
      ],
      "metadata": {
        "id": "jws_ALO_bnJa"
      }
    },
    {
      "cell_type": "code",
      "source": [
        "sentence = \"How sad! Are you okay?\"\n",
        "sentence.split('.')"
      ],
      "metadata": {
        "colab": {
          "base_uri": "https://localhost:8080/"
        },
        "id": "W-yGnu8kbjQX",
        "outputId": "9eef33c0-b8b8-4ca6-96df-724baf7311c3"
      },
      "execution_count": 93,
      "outputs": [
        {
          "output_type": "execute_result",
          "data": {
            "text/plain": [
              "['How sad! Are you okay?']"
            ]
          },
          "metadata": {},
          "execution_count": 93
        }
      ]
    },
    {
      "cell_type": "markdown",
      "source": [
        "*Limitation: 'How sad!' and 'Are you okay?' should be 2 differnt tockens.*"
      ],
      "metadata": {
        "id": "OwwS0kjjcV4T"
      }
    },
    {
      "cell_type": "markdown",
      "source": [
        "> **One solution is to use regular expression or regex**\n",
        "\n",
        "\n",
        "\n",
        "\n",
        "\n",
        "\n",
        "\n",
        "\n",
        "\n"
      ],
      "metadata": {
        "id": "Bau6BZAUcyPz"
      }
    },
    {
      "cell_type": "code",
      "source": [
        "import re\n",
        "\n",
        "sentence = \"How sad! Are you okay?\"\n",
        "tokens = re.findall(\"[\\w']+\",sentence)\n",
        "tokens"
      ],
      "metadata": {
        "colab": {
          "base_uri": "https://localhost:8080/"
        },
        "id": "i8jQOPhdclKT",
        "outputId": "d3b6051d-70aa-4fee-bf0b-c3e5740c2c93"
      },
      "execution_count": 97,
      "outputs": [
        {
          "output_type": "execute_result",
          "data": {
            "text/plain": [
              "['How', 'sad', 'Are', 'you', 'okay']"
            ]
          },
          "metadata": {},
          "execution_count": 97
        }
      ]
    },
    {
      "cell_type": "markdown",
      "source": [
        "**Works great! But what if we need the exclamatory sign? **"
      ],
      "metadata": {
        "id": "JLp4ancnd3G-"
      }
    },
    {
      "cell_type": "code",
      "source": [
        "sentence = \"I can't believe it's already Wednesday! Are you sure about that meeting time tomorrow? The weather forecast looks terrible; it's going to pour!\"\n",
        "\n",
        "tokens = re.compile(\"[.!?;] \").split(sentence)\n",
        "tokens"
      ],
      "metadata": {
        "colab": {
          "base_uri": "https://localhost:8080/"
        },
        "id": "AvZ1o0l8dADI",
        "outputId": "593b034f-1f04-44a8-db70-ad01aa416253"
      },
      "execution_count": 101,
      "outputs": [
        {
          "output_type": "execute_result",
          "data": {
            "text/plain": [
              "[\"I can't believe it's already Wednesday\",\n",
              " 'Are you sure about that meeting time tomorrow',\n",
              " 'The weather forecast looks terrible',\n",
              " \"it's going to pour!\"]"
            ]
          },
          "metadata": {},
          "execution_count": 101
        }
      ]
    },
    {
      "cell_type": "markdown",
      "source": [
        "**Noot bad, but can be better! **"
      ],
      "metadata": {
        "id": "sWfdZPmMkDUl"
      }
    },
    {
      "cell_type": "code",
      "source": [
        "from nltk import word_tokenize\n",
        "nltk.download('punkt_tab')"
      ],
      "metadata": {
        "colab": {
          "base_uri": "https://localhost:8080/"
        },
        "id": "xa0m1rFJkCDC",
        "outputId": "dc129e2a-0111-4d55-d133-f284f159142a"
      },
      "execution_count": 108,
      "outputs": [
        {
          "output_type": "stream",
          "name": "stderr",
          "text": [
            "[nltk_data] Downloading package punkt_tab to /root/nltk_data...\n",
            "[nltk_data]   Package punkt_tab is already up-to-date!\n"
          ]
        },
        {
          "output_type": "execute_result",
          "data": {
            "text/plain": [
              "True"
            ]
          },
          "metadata": {},
          "execution_count": 108
        }
      ]
    },
    {
      "cell_type": "code",
      "source": [
        "sentence = \"I am from Barishal!\"\n",
        "word_tokenize(sentence)"
      ],
      "metadata": {
        "colab": {
          "base_uri": "https://localhost:8080/"
        },
        "id": "jcvqcOfIcTr9",
        "outputId": "6b1edadd-f524-447f-85b3-db22dcf2cc12"
      },
      "execution_count": 109,
      "outputs": [
        {
          "output_type": "execute_result",
          "data": {
            "text/plain": [
              "['I', 'am', 'from', 'Barishal', '!']"
            ]
          },
          "metadata": {},
          "execution_count": 109
        }
      ]
    },
    {
      "cell_type": "code",
      "source": [
        "from nltk import word_tokenize, sent_tokenize\n",
        "\n",
        "sentence = \"I can't believe it's already Wednesday! Are you sure about that meeting time tomorrow? The weather forecast looks terrible; it's going to pour!\"\n",
        "\n",
        "sent_tokenize(sentence)"
      ],
      "metadata": {
        "colab": {
          "base_uri": "https://localhost:8080/"
        },
        "id": "ho85IkI8kcyd",
        "outputId": "81b09a71-818e-4b70-ee26-8773187b359b"
      },
      "execution_count": 111,
      "outputs": [
        {
          "output_type": "execute_result",
          "data": {
            "text/plain": [
              "[\"I can't believe it's already Wednesday!\",\n",
              " 'Are you sure about that meeting time tomorrow?',\n",
              " \"The weather forecast looks terrible; it's going to pour!\"]"
            ]
          },
          "metadata": {},
          "execution_count": 111
        }
      ]
    },
    {
      "cell_type": "code",
      "source": [
        "sentence = \"We're here for you. Please email us at email@email.com\"\n",
        "\n",
        "word_tokenize(sentence)"
      ],
      "metadata": {
        "colab": {
          "base_uri": "https://localhost:8080/"
        },
        "id": "oVugY1DqrPFQ",
        "outputId": "28ba78f0-bd13-4868-9941-7bc3c4b8fd53"
      },
      "execution_count": 112,
      "outputs": [
        {
          "output_type": "execute_result",
          "data": {
            "text/plain": [
              "['We',\n",
              " \"'re\",\n",
              " 'here',\n",
              " 'for',\n",
              " 'you',\n",
              " '.',\n",
              " 'Please',\n",
              " 'email',\n",
              " 'us',\n",
              " 'at',\n",
              " 'email',\n",
              " '@',\n",
              " 'email.com']"
            ]
          },
          "metadata": {},
          "execution_count": 112
        }
      ]
    },
    {
      "cell_type": "markdown",
      "source": [
        "Not perfect huh!"
      ],
      "metadata": {
        "id": "eCDIwocysfRs"
      }
    },
    {
      "cell_type": "code",
      "source": [
        "import spacy"
      ],
      "metadata": {
        "id": "xIAaoM1dsTGU"
      },
      "execution_count": 113,
      "outputs": []
    },
    {
      "cell_type": "code",
      "source": [
        "nlp = spacy.load('en_core_web_sm')\n",
        "\n",
        "document = nlp(sentence)\n",
        "\n",
        "for token in document:\n",
        "  print(token)"
      ],
      "metadata": {
        "colab": {
          "base_uri": "https://localhost:8080/"
        },
        "id": "Nr02CePXsqyK",
        "outputId": "266721a5-87f2-4997-b069-1554e72127f1"
      },
      "execution_count": 114,
      "outputs": [
        {
          "output_type": "stream",
          "name": "stdout",
          "text": [
            "We\n",
            "'re\n",
            "here\n",
            "for\n",
            "you\n",
            ".\n",
            "Please\n",
            "email\n",
            "us\n",
            "at\n",
            "email@email.com\n"
          ]
        }
      ]
    },
    {
      "cell_type": "markdown",
      "source": [
        "Hmm... not bad!"
      ],
      "metadata": {
        "id": "OPo8toyAtI_G"
      }
    },
    {
      "cell_type": "markdown",
      "source": [
        "\n",
        "\n",
        "> No lib is perfect, You have to select one denpending one your data type.\n",
        "\n"
      ],
      "metadata": {
        "id": "-WzhdUFptV3X"
      }
    },
    {
      "cell_type": "markdown",
      "source": [
        "## 7. Stemming"
      ],
      "metadata": {
        "id": "YjqzHqwEtuSM"
      }
    },
    {
      "cell_type": "markdown",
      "source": [],
      "metadata": {
        "id": "dAdlXfxvuI-q"
      }
    },
    {
      "cell_type": "markdown",
      "metadata": {
        "id": "08bad4ed"
      },
      "source": [
        "## Stemming in NLP\n",
        "\n",
        "**What is Stemming?**\n",
        "Stemming is a process in NLP that reduces words to their root or base form, often called the \"stem.\" This is done by removing suffixes from words. The stem may not be a linguistically correct word.\n",
        "\n",
        "**When to Keep/Remove Stemmed Words:**\n",
        "\n",
        "*   **When to Stem:** Stemming is useful when you need to group words with similar meanings based on their root, even if the stem itself isn't a real word. This can be beneficial for tasks like:\n",
        "    *   Information Retrieval (searching for documents containing variations of a word)\n",
        "    *   Spelling Correction\n",
        "    *   Reducing vocabulary size\n",
        "\n",
        "*   **When Not to Stem:** Stemming can sometimes result in stems that are not actual words or can conflate words with different meanings (e.g., \"organize\" and \"organ\" might be stemmed to \"organ\"). Avoid stemming when:\n",
        "    *   The exact meaning and form of a word are important (e.g., in text generation or machine translation).\n",
        "    *   You need linguistically correct roots (use lemmatization instead).\n",
        "    *   The nuances of word variations are crucial for your analysis."
      ]
    },
    {
      "cell_type": "code",
      "source": [
        "from nltk.stem.porter import PorterStemmer"
      ],
      "metadata": {
        "id": "nIO8Uv2mtHpY"
      },
      "execution_count": 116,
      "outputs": []
    },
    {
      "cell_type": "code",
      "source": [
        "port_stem = PorterStemmer()\n",
        "\n",
        "def stemming_words(text):\n",
        "  return \" \".join([port_stem.stem(word) for word in text.split()])"
      ],
      "metadata": {
        "id": "0EohW4YGuyyu"
      },
      "execution_count": 117,
      "outputs": []
    },
    {
      "cell_type": "code",
      "source": [
        "smaple = \"walk walks walking walked\"\n",
        "\n",
        "stemming_words(smaple)"
      ],
      "metadata": {
        "colab": {
          "base_uri": "https://localhost:8080/",
          "height": 35
        },
        "id": "i09ZWaOQvGHJ",
        "outputId": "2596e842-aece-498a-bfd4-13ad15a115c5"
      },
      "execution_count": 121,
      "outputs": [
        {
          "output_type": "execute_result",
          "data": {
            "text/plain": [
              "'walk walk walk walk'"
            ],
            "application/vnd.google.colaboratory.intrinsic+json": {
              "type": "string"
            }
          },
          "metadata": {},
          "execution_count": 121
        }
      ]
    },
    {
      "cell_type": "code",
      "source": [
        "sample_para = \"\"\"The quick brown fox jumps over the lazy dog. This sentence is a pangram, which means it contains every letter of the alphabet at least once. Pangrams are often used to test typewriters and fonts, and they serve as a fun way to practice handwriting.\"\"\"\n",
        "\n",
        "stemming_words(sample_para)"
      ],
      "metadata": {
        "colab": {
          "base_uri": "https://localhost:8080/",
          "height": 70
        },
        "id": "MEyblepnvbRN",
        "outputId": "4589184d-7bfc-4c04-af99-6c887eb482a0"
      },
      "execution_count": 127,
      "outputs": [
        {
          "output_type": "execute_result",
          "data": {
            "text/plain": [
              "'the quick brown fox jump over the lazi dog. thi sentenc is a pangram, which mean it contain everi letter of the alphabet at least once. pangram are often use to test typewrit and fonts, and they serv as a fun way to practic handwriting.'"
            ],
            "application/vnd.google.colaboratory.intrinsic+json": {
              "type": "string"
            }
          },
          "metadata": {},
          "execution_count": 127
        }
      ]
    },
    {
      "cell_type": "markdown",
      "source": [
        "**What languages is that mate!**"
      ],
      "metadata": {
        "id": "vDVaqzxBxgWa"
      }
    },
    {
      "cell_type": "markdown",
      "metadata": {
        "id": "31ca1501"
      },
      "source": [
        "## Stemming vs. Lemmatization in NLP\n",
        "\n",
        "Both stemming and lemmatization are techniques used to reduce words to their root form, but they differ in their approach and the resulting root.\n",
        "\n",
        "*   **Stemming:**\n",
        "    *   A more basic, rule-based process that chops off suffixes from words.\n",
        "    *   The resulting \"stem\" may not be a real word (e.g., \"running\" -> \"runn\").\n",
        "    *   Generally faster and simpler to implement.\n",
        "    *   Useful for tasks where you need to group related words quickly, even if the root isn't linguistically perfect (like information retrieval).\n",
        "\n",
        "*   **Lemmatization:**\n",
        "    *   A more complex process that considers the word's context and uses a vocabulary and morphological analysis to return the base or dictionary form of a word (the lemma).\n",
        "    *   The resulting \"lemma\" is always a real word (e.g., \"running\" -> \"run\").\n",
        "    *   Generally slower than stemming due to the need for vocabulary lookup and analysis.\n",
        "    *   Useful for tasks where you need accurate, linguistically correct roots for better understanding of meaning (like text analysis or machine translation).\n",
        "\n",
        "In short, stemming is a cruder, faster method that might produce non-words, while lemmatization is a more accurate, slower method that produces real words. The choice between them depends on the specific NLP task and the required level of accuracy."
      ]
    },
    {
      "cell_type": "code",
      "source": [
        "import nltk\n",
        "from nltk.stem import WordNetLemmatizer\n",
        "from nltk.tokenize import word_tokenize\n",
        "\n",
        "nltk.download('wordnet')\n",
        "\n",
        "wordnet_lemmatizer = WordNetLemmatizer()"
      ],
      "metadata": {
        "colab": {
          "base_uri": "https://localhost:8080/"
        },
        "id": "T0WSK08nwB1N",
        "outputId": "9a646838-2355-473c-8b45-ce8457b8f16a"
      },
      "execution_count": 128,
      "outputs": [
        {
          "output_type": "stream",
          "name": "stderr",
          "text": [
            "[nltk_data] Downloading package wordnet to /root/nltk_data...\n"
          ]
        }
      ]
    },
    {
      "cell_type": "code",
      "source": [
        "sample_para = \"\"\"The quick brown fox jumps over the lazy dog. This sentence is a pangram, which means it contains every letter of the alphabet at least once. Pangrams are often used to test typewriters and fonts, and they serve as a fun way to practice handwriting.\"\"\"\n",
        "\n",
        "puncs = \"?:!.,;\"\n",
        "para_words = nltk.word_tokenize(sample_para)\n",
        "for word in para_words:\n",
        "    if word in puncs:\n",
        "        para_words.remove(word)\n",
        "\n",
        "print(\"{0:20}{1:20}\".format(\"Word\",\"Lemma\"))\n",
        "for word in para_words:\n",
        "    print(\"{0:20}{1:20}\".format(word,wordnet_lemmatizer.lemmatize(word)))"
      ],
      "metadata": {
        "colab": {
          "base_uri": "https://localhost:8080/"
        },
        "id": "aOD6WL_Lyy_5",
        "outputId": "2e95fc89-f0e6-4058-de29-efea10d3bec9"
      },
      "execution_count": 130,
      "outputs": [
        {
          "output_type": "stream",
          "name": "stdout",
          "text": [
            "Word                Lemma               \n",
            "The                 The                 \n",
            "quick               quick               \n",
            "brown               brown               \n",
            "fox                 fox                 \n",
            "jumps               jump                \n",
            "over                over                \n",
            "the                 the                 \n",
            "lazy                lazy                \n",
            "dog                 dog                 \n",
            "This                This                \n",
            "sentence            sentence            \n",
            "is                  is                  \n",
            "a                   a                   \n",
            "pangram             pangram             \n",
            "which               which               \n",
            "means               mean                \n",
            "it                  it                  \n",
            "contains            contains            \n",
            "every               every               \n",
            "letter              letter              \n",
            "of                  of                  \n",
            "the                 the                 \n",
            "alphabet            alphabet            \n",
            "at                  at                  \n",
            "least               least               \n",
            "once                once                \n",
            "Pangrams            Pangrams            \n",
            "are                 are                 \n",
            "often               often               \n",
            "used                used                \n",
            "to                  to                  \n",
            "test                test                \n",
            "typewriters         typewriter          \n",
            "and                 and                 \n",
            "fonts               font                \n",
            "and                 and                 \n",
            "they                they                \n",
            "serve               serve               \n",
            "as                  a                   \n",
            "a                   a                   \n",
            "fun                 fun                 \n",
            "way                 way                 \n",
            "to                  to                  \n",
            "practice            practice            \n",
            "handwriting         handwriting         \n"
          ]
        }
      ]
    },
    {
      "cell_type": "code",
      "source": [],
      "metadata": {
        "id": "iFry75Zaz0Gc"
      },
      "execution_count": null,
      "outputs": []
    }
  ]
}
